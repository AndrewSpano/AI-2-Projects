{
 "cells": [
  {
   "cell_type": "markdown",
   "metadata": {
    "id": "XlF2z-dIIsCg"
   },
   "source": [
    "# Install useful libraries"
   ]
  },
  {
   "cell_type": "code",
   "execution_count": 1,
   "metadata": {
    "colab": {
     "base_uri": "https://localhost:8080/"
    },
    "id": "yTU0VFg058ht",
    "outputId": "d6c302b9-bc44-4409-9b0f-28e976109ea9"
   },
   "outputs": [
    {
     "name": "stdout",
     "output_type": "stream",
     "text": [
      "Requirement already satisfied: sentence_transformers in /usr/local/lib/python3.6/dist-packages (0.4.1.2)\n",
      "Requirement already satisfied: scipy in /usr/local/lib/python3.6/dist-packages (from sentence_transformers) (1.4.1)\n",
      "Requirement already satisfied: tqdm in /usr/local/lib/python3.6/dist-packages (from sentence_transformers) (4.41.1)\n",
      "Requirement already satisfied: transformers<5.0.0,>=3.1.0 in /usr/local/lib/python3.6/dist-packages (from sentence_transformers) (4.2.1)\n",
      "Requirement already satisfied: scikit-learn in /usr/local/lib/python3.6/dist-packages (from sentence_transformers) (0.22.2.post1)\n",
      "Requirement already satisfied: sentencepiece in /usr/local/lib/python3.6/dist-packages (from sentence_transformers) (0.1.95)\n",
      "Requirement already satisfied: nltk in /usr/local/lib/python3.6/dist-packages (from sentence_transformers) (3.2.5)\n",
      "Requirement already satisfied: torch>=1.6.0 in /usr/local/lib/python3.6/dist-packages (from sentence_transformers) (1.7.0+cu101)\n",
      "Requirement already satisfied: numpy in /usr/local/lib/python3.6/dist-packages (from sentence_transformers) (1.19.5)\n",
      "Requirement already satisfied: requests in /usr/local/lib/python3.6/dist-packages (from transformers<5.0.0,>=3.1.0->sentence_transformers) (2.23.0)\n",
      "Requirement already satisfied: tokenizers==0.9.4 in /usr/local/lib/python3.6/dist-packages (from transformers<5.0.0,>=3.1.0->sentence_transformers) (0.9.4)\n",
      "Requirement already satisfied: packaging in /usr/local/lib/python3.6/dist-packages (from transformers<5.0.0,>=3.1.0->sentence_transformers) (20.8)\n",
      "Requirement already satisfied: regex!=2019.12.17 in /usr/local/lib/python3.6/dist-packages (from transformers<5.0.0,>=3.1.0->sentence_transformers) (2019.12.20)\n",
      "Requirement already satisfied: dataclasses; python_version < \"3.7\" in /usr/local/lib/python3.6/dist-packages (from transformers<5.0.0,>=3.1.0->sentence_transformers) (0.8)\n",
      "Requirement already satisfied: sacremoses in /usr/local/lib/python3.6/dist-packages (from transformers<5.0.0,>=3.1.0->sentence_transformers) (0.0.43)\n",
      "Requirement already satisfied: importlib-metadata; python_version < \"3.8\" in /usr/local/lib/python3.6/dist-packages (from transformers<5.0.0,>=3.1.0->sentence_transformers) (3.3.0)\n",
      "Requirement already satisfied: filelock in /usr/local/lib/python3.6/dist-packages (from transformers<5.0.0,>=3.1.0->sentence_transformers) (3.0.12)\n",
      "Requirement already satisfied: joblib>=0.11 in /usr/local/lib/python3.6/dist-packages (from scikit-learn->sentence_transformers) (1.0.0)\n",
      "Requirement already satisfied: six in /usr/local/lib/python3.6/dist-packages (from nltk->sentence_transformers) (1.15.0)\n",
      "Requirement already satisfied: typing-extensions in /usr/local/lib/python3.6/dist-packages (from torch>=1.6.0->sentence_transformers) (3.7.4.3)\n",
      "Requirement already satisfied: future in /usr/local/lib/python3.6/dist-packages (from torch>=1.6.0->sentence_transformers) (0.16.0)\n",
      "Requirement already satisfied: certifi>=2017.4.17 in /usr/local/lib/python3.6/dist-packages (from requests->transformers<5.0.0,>=3.1.0->sentence_transformers) (2020.12.5)\n",
      "Requirement already satisfied: chardet<4,>=3.0.2 in /usr/local/lib/python3.6/dist-packages (from requests->transformers<5.0.0,>=3.1.0->sentence_transformers) (3.0.4)\n",
      "Requirement already satisfied: urllib3!=1.25.0,!=1.25.1,<1.26,>=1.21.1 in /usr/local/lib/python3.6/dist-packages (from requests->transformers<5.0.0,>=3.1.0->sentence_transformers) (1.24.3)\n",
      "Requirement already satisfied: idna<3,>=2.5 in /usr/local/lib/python3.6/dist-packages (from requests->transformers<5.0.0,>=3.1.0->sentence_transformers) (2.10)\n",
      "Requirement already satisfied: pyparsing>=2.0.2 in /usr/local/lib/python3.6/dist-packages (from packaging->transformers<5.0.0,>=3.1.0->sentence_transformers) (2.4.7)\n",
      "Requirement already satisfied: click in /usr/local/lib/python3.6/dist-packages (from sacremoses->transformers<5.0.0,>=3.1.0->sentence_transformers) (7.1.2)\n",
      "Requirement already satisfied: zipp>=0.5 in /usr/local/lib/python3.6/dist-packages (from importlib-metadata; python_version < \"3.8\"->transformers<5.0.0,>=3.1.0->sentence_transformers) (3.4.0)\n"
     ]
    }
   ],
   "source": [
    "!pip install sentence_transformers"
   ]
  },
  {
   "cell_type": "markdown",
   "metadata": {
    "id": "4p-JiHmGI0rz"
   },
   "source": [
    "# Imports"
   ]
  },
  {
   "cell_type": "code",
   "execution_count": 2,
   "metadata": {
    "colab": {
     "base_uri": "https://localhost:8080/"
    },
    "id": "FefJOaDOI17m",
    "outputId": "307f6c17-4c8c-4bb8-8f8d-045f71d25795"
   },
   "outputs": [
    {
     "name": "stdout",
     "output_type": "stream",
     "text": [
      "[nltk_data] Downloading package punkt to /root/nltk_data...\n",
      "[nltk_data]   Package punkt is already up-to-date!\n"
     ]
    }
   ],
   "source": [
    "import os\n",
    "import re\n",
    "import time\n",
    "import json\n",
    "import torch\n",
    "import pickle\n",
    "import nltk\n",
    "import nltk.data\n",
    "nltk.download('punkt')\n",
    "\n",
    "from sentence_transformers import SentenceTransformer, util"
   ]
  },
  {
   "cell_type": "code",
   "execution_count": 3,
   "metadata": {
    "id": "6lFuIglPMXdL"
   },
   "outputs": [],
   "source": [
    "from preprocessing import *"
   ]
  },
  {
   "cell_type": "markdown",
   "metadata": {
    "id": "uhWop8OVI3td"
   },
   "source": [
    "# Preprocessing"
   ]
  },
  {
   "cell_type": "markdown",
   "metadata": {
    "id": "Cy6vMVURDyu9"
   },
   "source": [
    "## Start by creating the class that will be used to store an article"
   ]
  },
  {
   "cell_type": "markdown",
   "metadata": {
    "id": "fQrH-NAaEq9w"
   },
   "source": [
    "If the Dataset has already been parsed and stored in a pickle file, set this variable to True, to avoid parsing it again. If you are running this Notebook for the first time, then of course, the Dataset has not been parsed, so set the variable to False."
   ]
  },
  {
   "cell_type": "code",
   "execution_count": 4,
   "metadata": {
    "id": "ZW8-B4YtEhxw"
   },
   "outputs": [],
   "source": [
    "has_already_been_parsed = True"
   ]
  },
  {
   "cell_type": "code",
   "execution_count": 5,
   "metadata": {
    "id": "mMHi6YjfJhuY"
   },
   "outputs": [],
   "source": [
    "class CovidArticle:\n",
    "  \"\"\" class used to keep the information of an article \"\"\"\n",
    "\n",
    "  def __init__(self, article_data):\n",
    "    tokenizer = nltk.data.load('tokenizers/punkt/english.pickle')\n",
    "    self._id = article_data[\"paper_id\"]\n",
    "    self._name = article_data[\"metadata\"][\"title\"]\n",
    "    self._abstract = self._preprocess_abstract(article_data[\"abstract\"], tokenizer)\n",
    "    self._corpus_text = self._preprocess_bodytext(article_data[\"body_text\"], tokenizer)\n",
    "\n",
    "  @property\n",
    "  def id(self):\n",
    "    return self._id\n",
    "\n",
    "  @property\n",
    "  def title(self):\n",
    "    return self._name\n",
    "\n",
    "  @property\n",
    "  def abstract(self):\n",
    "    return self._abstract\n",
    "\n",
    "  @property\n",
    "  def corpus(self):\n",
    "    return self._corpus_text\n",
    "\n",
    "  @id.setter\n",
    "  def id(self, _id):\n",
    "    self._id = _id\n",
    "\n",
    "  @title.setter\n",
    "  def title(self, _title):\n",
    "    self._name = _title\n",
    "\n",
    "  @abstract.setter\n",
    "  def abstract(self, _abstract):\n",
    "    self._abstract = _abstract\n",
    "\n",
    "  @corpus.setter\n",
    "  def corpus(self, _corpus):\n",
    "    self._corpus_text = _corpus\n",
    "\n",
    "  @staticmethod\n",
    "  def _preprocess(text_data):\n",
    "    result = remove_urls(text_data)\n",
    "    result = remove_references(result)\n",
    "    result = remove_multiple_full_stops(result)\n",
    "    result = remove_et_al(result)\n",
    "    result = remove_figure_references(result)\n",
    "    result = remove_multiple_whitespace(result)\n",
    "    return result\n",
    "\n",
    "  def _preprocess_abstract(self, abstract, tokenizer):\n",
    "    if not abstract:\n",
    "      sentences = [\"\"]\n",
    "    else:\n",
    "      sentences = []\n",
    "      for paragraph in abstract:\n",
    "        sentences = sentences + self._preprocess_paragraph(paragraph, tokenizer)[1]\n",
    "    return (\"Abstract.\", sentences)\n",
    "\n",
    "  def _preprocess_bodytext(self, body_text, tokenizer):\n",
    "    return [self._preprocess_paragraph(paragraph, tokenizer)\n",
    "            for paragraph in body_text] if body_text else [(\"\", \"\")]\n",
    "\n",
    "  def _preprocess_paragraph(self, paragraph, tokenizer):\n",
    "    return (paragraph['section'] + '.',\n",
    "            [sentence.strip()\n",
    "             for sentence in tokenizer.tokenize(self._preprocess(paragraph['text']))\n",
    "             if sentence != '.'])\n",
    "\n",
    "  @property\n",
    "  def summary(self):\n",
    "    \"\"\" returns a list containing the title + the sentences in the abtract plus section names \"\"\"\n",
    "    sentences = [paragraph_and_section[0]\n",
    "                 for paragraph_and_section in self._corpus_text\n",
    "                 if paragraph_and_section[0] != '.']\n",
    "    return list(set([self.title + '.', self._abstract[0], *self._abstract[1]] + sentences))\n",
    "\n",
    "  @property\n",
    "  def text(self):\n",
    "    \"\"\" returns all the text in the article: abstract + sections + paragraph text \"\"\"\n",
    "    sentences = [self._abstract[0], *self._abstract[1]]\n",
    "    for paragraph_and_section in self._corpus_text:\n",
    "      if paragraph_and_section[0] != '.':\n",
    "        sentences.append(paragraph_and_section[0])\n",
    "      if paragraph_and_section[1] != '.':\n",
    "        sentences = sentences + paragraph_and_section[1]\n",
    "    return sentences\n",
    "\n",
    "  def get_section_from_index(self, idx):\n",
    "    \"\"\" given an index of a sentence in the whole text of the article, it\n",
    "        returns the section and the index of the sentence inside the section \"\"\"\n",
    "    text = self.text\n",
    "    abstract = self.abstract\n",
    "    corpus_text = self.corpus\n",
    "\n",
    "    length_of_abstract = 1 + len(abstract[1])\n",
    "    target_index = None\n",
    "    target_section = None\n",
    "\n",
    "    # indexed sentence is in abstract\n",
    "    if idx < length_of_abstract:\n",
    "      target_index = idx\n",
    "      target_section = abstract\n",
    "    \n",
    "    # else, indexed sentence is in body text\n",
    "    else:\n",
    "      current_index = length_of_abstract\n",
    "      for paragraph in corpus_text:\n",
    "        paragraph_length = 1 + len(paragraph[1])\n",
    "        if idx <= current_index + paragraph_length:\n",
    "          target_index = idx - current_index\n",
    "          target_section = paragraph\n",
    "          break\n",
    "        else:\n",
    "          current_index += paragraph_length\n",
    "\n",
    "    return target_index, target_section"
   ]
  },
  {
   "cell_type": "markdown",
   "metadata": {
    "id": "6tIYtMEOSyZk"
   },
   "source": [
    "## Helper method to parse all the articles"
   ]
  },
  {
   "cell_type": "code",
   "execution_count": 6,
   "metadata": {
    "id": "wxhpeezUS2Z5"
   },
   "outputs": [],
   "source": [
    "def get_articles(root_dir, filenames, log_every=None, stop_at=None):\n",
    "  \"\"\"\n",
    "  :param str root_dir:         The root directory containing all the articles in json format.\n",
    "  :param list[str] filenames:  A list containing the names of the json files.\n",
    "  :param int log_every:        Frequency of prints that show how many files have been parsed at a\n",
    "                                  specific timestep.\n",
    "  :param int stop_at:          The number of articles to parsed. If None, then all the articles\n",
    "                                  available will be parsed.\n",
    "  \n",
    "  :return:  A list containing Article objectes, one for every article.\n",
    "  :rtype:   list[CovidArticle]\n",
    "  \"\"\"\n",
    "\n",
    "  covid_articles = []\n",
    "\n",
    "  for filename in filenames:\n",
    "    full_filepath = os.path.join(root_dir, filename)\n",
    "    with open(full_filepath) as f:\n",
    "      data = json.load(f)\n",
    "      covid_articles.append(CovidArticle(data))\n",
    "\n",
    "    if log_every is not None and len(covid_articles) % log_every == 0:\n",
    "      print('{} articles parsed'.format(len(covid_articles)))\n",
    "\n",
    "    if stop_at is not None and len(covid_articles) == stop_at:\n",
    "      break\n",
    "\n",
    "  return covid_articles"
   ]
  },
  {
   "cell_type": "markdown",
   "metadata": {
    "id": "_TcoXBLzZhGZ"
   },
   "source": [
    "Get a list with the articles either by\n",
    "- Parsing it using the ``` get_articles() ``` function, which takes ~ 1 hour, and then saving it in a pickle file.\n",
    "- Loading an already parsed pickle file containing the list.\n",
    "\n",
    "I would suggest first parsing the Dataset in CPU, and then switching to GPU to load it."
   ]
  },
  {
   "cell_type": "code",
   "execution_count": 7,
   "metadata": {
    "id": "j35l9MVLUlag"
   },
   "outputs": [],
   "source": [
    "# edit your paths here\n",
    "root_dir = os.path.join('.', 'drive', 'My Drive', 'Colab Notebooks', 'AI2', 'Project4', 'Dataset', 'comm_use_subset')\n",
    "save_path = os.path.join('.', 'drive', 'My Drive', 'Colab Notebooks', 'AI2', 'Project4', 'Preprocessed_Dataset', 'processed_articles.pickle')\n",
    "\n",
    "# if the dataset is to be parsed for the first time\n",
    "if not has_already_been_parsed:\n",
    "  filenames = sorted(os.listdir(root_dir))\n",
    "  articles = get_articles(root_dir, filenames, log_every=100)\n",
    "  with open(save_path, 'wb') as f:\n",
    "    pickle.dump(articles, f)\n",
    "# else, it has already been parsed, just load it\n",
    "else:\n",
    "  with open(save_path, 'rb') as f:\n",
    "    articles = pickle.load(f)"
   ]
  },
  {
   "cell_type": "code",
   "execution_count": 8,
   "metadata": {
    "colab": {
     "base_uri": "https://localhost:8080/"
    },
    "id": "7ddrW6sZqJf4",
    "outputId": "4e823ec7-1767-41cc-98a5-c3f956fa38c4"
   },
   "outputs": [
    {
     "data": {
      "text/plain": [
       "9009"
      ]
     },
     "execution_count": 8,
     "metadata": {
      "tags": []
     },
     "output_type": "execute_result"
    }
   ],
   "source": [
    "len(articles)"
   ]
  },
  {
   "cell_type": "markdown",
   "metadata": {
    "id": "BR-RD7PTo3-t"
   },
   "source": [
    "Let's take a look at IDs and the titles of the first 20 articles"
   ]
  },
  {
   "cell_type": "code",
   "execution_count": 9,
   "metadata": {
    "colab": {
     "base_uri": "https://localhost:8080/"
    },
    "id": "5_wLmBCqpCFM",
    "outputId": "6b3fe07d-eb8e-44da-cd1e-b43be4368786"
   },
   "outputs": [
    {
     "name": "stdout",
     "output_type": "stream",
     "text": [
      "ID: 000b7d1517ceebb34e1e3e817695b6de03e2fa78,\tTitle: Supplementary Information An eco-epidemiological study of Morbilli-related paramyxovirus infection in Madagascar bats reveals host-switching as the dominant macro-evolutionary mechanism\n",
      "ID: 00142f93c18b07350be89e96372d240372437ed9,\tTitle: immunity to pathogens taught by specialized human dendritic cell subsets\n",
      "ID: 0022796bb2112abd2e6423ba2d57751db06049fb,\tTitle: Public Health Responses to and Challenges for the Control of Dengue Transmission in High-Income Countries: Four Case Studies\n",
      "ID: 00326efcca0852dc6e39dc6b7786267e1bc4f194,\tTitle: a section of the journal Frontiers in Pediatrics A Review of Pediatric Critical Care in Resource-Limited Settings: A Look at Past, Present, and Future Directions\n",
      "ID: 00352a58c8766861effed18a4b079d1683fec2ec,\tTitle: MINI REVIEW Function of the Deubiquitinating Enzyme USP46 in the Nervous System and Its Regulation by WD40-Repeat Proteins\n",
      "ID: 0043d044273b8eb1585d3a66061e9b4e03edc062,\tTitle: Evaluation of the tuberculosis programme in Ningxia Hui Autonomous region, the People's Republic of China: a retrospective case study\n",
      "ID: 0049ba8861864506e1e8559e7815f4de8b03dbed,\tTitle: GPI-anchored single chain Fv -an effective way to capture transiently-exposed neutralization epitopes on HIV-1 envelope spike\n",
      "ID: 00623bf2715e25d3acacb3f210d6888ed840e3cb,\tTitle: Transmissible gastroenteritis virus infection decreases arginine uptake by downregulating CAT-1 expression\n",
      "ID: 0072159e1ebecc889e9bcabb58bb45c47e18a403,\tTitle: Chaperone-Mediated Autophagy Protein BAG3 Negatively Regulates Ebola and Marburg VP40-Mediated Egress\n",
      "ID: 007618ad76a3548195ab5d11c1e2459931c91cd1,\tTitle: Molecular Sciences Monocytes and Macrophages as Viral Targets and Reservoirs\n",
      "ID: 007bf75961da42a7e0cc8e2855e5c208a5ec65c1,\tTitle: The Murine Coronavirus Hemagglutinin-esterase Receptor-binding Site: A Major Shift in Ligand Specificity through Modest Changes in Architecture\n",
      "ID: 0080d3bd9fb92e022c27715c2d1249042aa998b8,\tTitle: Rational Design of a Live Attenuated Dengue Vaccine: 29-O-Methyltransferase Mutants Are Highly Attenuated and Immunogenic in Mice and Macaques\n",
      "ID: 0089aa4b17549b9774f13a9e2e12a84fc827d60b,\tTitle: The Domain-Specific and Temperature-Dependent Protein Misfolding Phenotype of Variant Medium-Chain acyl-CoA Dehydrogenase\n",
      "ID: 008c1ceaeffe7abc87b031af39fae2632fa72897,\tTitle: AMS 3.0: prediction of post-translational modifications\n",
      "ID: 008d980cbcc283a9b707de3d9a02573dde8528ac,\tTitle: A pilot study-genetic diversity and population structure of snow leopards of Gilgit-Baltistan, Pakistan, using molecular techniques\n",
      "ID: 009002e8a66b8c1df088cf04069629fd76b13bb9,\tTitle: Epidemiological Characteristics of Imported Influenza A (H1N1) Cases during the 2009 Pandemic in Korea\n",
      "ID: 0093f9ae0861afc0d29fff935ae6a3af898cea00,\tTitle: Emergence of infectious malignant thrombocytopenia in Japanese macaques (Macaca fuscata) by SRV-4 after transmission to a novel host\n",
      "ID: 0094b25e2500306fadbdfb41d520f2970bb086d3,\tTitle: BMC Infectious Diseases Sex-and age-dependent association of SLC11A1 polymorphisms with tuberculosis in Chinese: a case control study\n",
      "ID: 00951716e01c8e0cc341770389fc38d1b5455210,\tTitle: Knowledge of, attitudes toward, and preventive practices relating to cholera and oral cholera vaccine among urban high-risk groups: findings of a cross-sectional study in Dhaka, Bangladesh\n",
      "ID: 009892e02bc1a4c9abf6f547b979e68ecbde8087,\tTitle: Viral respiratory tract infections in young children with cystic fibrosis: a prospective full-year seasonal study\n"
     ]
    }
   ],
   "source": [
    "for article in articles[:20]:\n",
    "  print('ID: {},\\tTitle: {}'.format(article.id, article.title))"
   ]
  },
  {
   "cell_type": "markdown",
   "metadata": {
    "id": "ZbQqoRPs63Am"
   },
   "source": [
    "Let's also take a look at the contents of one article"
   ]
  },
  {
   "cell_type": "code",
   "execution_count": 10,
   "metadata": {
    "id": "uJr6mZavg1Gv"
   },
   "outputs": [],
   "source": [
    "art = articles[3]"
   ]
  },
  {
   "cell_type": "code",
   "execution_count": 11,
   "metadata": {
    "colab": {
     "base_uri": "https://localhost:8080/",
     "height": 36
    },
    "id": "wNVBP64Bp20n",
    "outputId": "dce27837-163f-4e51-f44a-d83ac8b95046"
   },
   "outputs": [
    {
     "data": {
      "application/vnd.google.colaboratory.intrinsic+json": {
       "type": "string"
      },
      "text/plain": [
       "'00326efcca0852dc6e39dc6b7786267e1bc4f194'"
      ]
     },
     "execution_count": 11,
     "metadata": {
      "tags": []
     },
     "output_type": "execute_result"
    }
   ],
   "source": [
    "art.id"
   ]
  },
  {
   "cell_type": "code",
   "execution_count": 12,
   "metadata": {
    "colab": {
     "base_uri": "https://localhost:8080/",
     "height": 36
    },
    "id": "WQRQpisIp2yW",
    "outputId": "9e3b12c8-1003-40c5-848f-2f090eb96b83"
   },
   "outputs": [
    {
     "data": {
      "application/vnd.google.colaboratory.intrinsic+json": {
       "type": "string"
      },
      "text/plain": [
       "'a section of the journal Frontiers in Pediatrics A Review of Pediatric Critical Care in Resource-Limited Settings: A Look at Past, Present, and Future Directions'"
      ]
     },
     "execution_count": 12,
     "metadata": {
      "tags": []
     },
     "output_type": "execute_result"
    }
   ],
   "source": [
    "art.title"
   ]
  },
  {
   "cell_type": "code",
   "execution_count": 13,
   "metadata": {
    "colab": {
     "base_uri": "https://localhost:8080/"
    },
    "id": "bVUDESrxp2vd",
    "outputId": "9818aa23-41ea-4d3f-8157-cfc92a7ec13c"
   },
   "outputs": [
    {
     "data": {
      "text/plain": [
       "('Abstract.',\n",
       " ['Fifteen years ago, United Nations world leaders defined millenium development goal 4 (MDG 4): to reduce under-5-year mortality rates by two-thirds by the year 2015.',\n",
       "  'Unfortunately, only 27 of 138 developing countries are expected to achieve MDG 4.',\n",
       "  'The majority of childhood deaths in these settings result from reversible causes, and developing effective pediatric emergency and critical care services could substantially reduce this mortality.',\n",
       "  'The Ebola outbreak highlighted the fragility of health care systems in resource-limited settings and emphasized the urgent need for a paradigm shift in the global approach to healthcare delivery related to critical illness.',\n",
       "  'This review provides an overview of pediatric critical care in resource-limited settings and outlines strategies to address challenges specific to these areas.',\n",
       "  'Implementation of these tools has the potential to move us toward delivery of an adequate standard of critical care for all children globally, and ultimately decrease global child mortality in resource-limited settings.'])"
      ]
     },
     "execution_count": 13,
     "metadata": {
      "tags": []
     },
     "output_type": "execute_result"
    }
   ],
   "source": [
    "art.abstract"
   ]
  },
  {
   "cell_type": "code",
   "execution_count": 14,
   "metadata": {
    "colab": {
     "base_uri": "https://localhost:8080/"
    },
    "id": "9qONTubxp9CM",
    "outputId": "0c18bff4-68af-427e-d857-98ff8ee18977"
   },
   "outputs": [
    {
     "data": {
      "text/plain": [
       "['Research Strategies for Clinical evidence.',\n",
       " 'The majority of childhood deaths in these settings result from reversible causes, and developing effective pediatric emergency and critical care services could substantially reduce this mortality.',\n",
       " 'Global Justice.',\n",
       " 'Research Agenda for Critical Care in Resource-Poor Settings.',\n",
       " 'This review provides an overview of pediatric critical care in resource-limited settings and outlines strategies to address challenges specific to these areas.',\n",
       " 'Fifteen years ago, United Nations world leaders defined millenium development goal 4 (MDG 4): to reduce under-5-year mortality rates by two-thirds by the year 2015.',\n",
       " 'eTHiCS OF PeDiATRiC CRiTiCAL CARe iN ReSOURCe-LiMiTeD COUNTRieS.',\n",
       " 'AUTHOR CONTRiBUTiONS.',\n",
       " 'Health Care work Force and education.',\n",
       " 'CONCLUSiON.',\n",
       " 'Category Specific exclusions Comments.',\n",
       " 'Unfortunately, only 27 of 138 developing countries are expected to achieve MDG 4.',\n",
       " 'Critical Care Guidelines and Toolkits.',\n",
       " 'wHAT HAS BeeN DONe TO ADDReSS MiLLeNiUM DeveLOPMeNT GOAL 4.',\n",
       " 'DeveLOPMeNT OF PeDiATRiC CRiTiCAL CARe MeDiCiNe.',\n",
       " 'Healthcare Systems.',\n",
       " 'Critical Resources.',\n",
       " 'THe 2014 eBOLA ePiDeMiC.',\n",
       " 'Abstract.',\n",
       " 'Task-Shifting.',\n",
       " 'Resource Allocation.',\n",
       " 'Pediatric Critical Care in Resource-Rich Settings.',\n",
       " 'CRiTiCAL CARe iNFRASTRUCTURe AND CAPACiTY BUiLDiNG iN ReSOURCe-LiMiTeD SeTTiNGS.',\n",
       " 'Implementation of these tools has the potential to move us toward delivery of an adequate standard of critical care for all children globally, and ultimately decrease global child mortality in resource-limited settings.',\n",
       " 'The Ebola outbreak highlighted the fragility of health care systems in resource-limited settings and emphasized the urgent need for a paradigm shift in the global approach to healthcare delivery related to critical illness.',\n",
       " 'a section of the journal Frontiers in Pediatrics A Review of Pediatric Critical Care in Resource-Limited Settings: A Look at Past, Present, and Future Directions.',\n",
       " 'THe COST OF CRiTiCAL CARe.',\n",
       " 'Family and Cultural Preferences.',\n",
       " 'Critical Care Education.',\n",
       " 'Pediatric Critical Care in Resource-Limited Settings.']"
      ]
     },
     "execution_count": 14,
     "metadata": {
      "tags": []
     },
     "output_type": "execute_result"
    }
   ],
   "source": [
    "art.summary"
   ]
  },
  {
   "cell_type": "code",
   "execution_count": 15,
   "metadata": {
    "colab": {
     "base_uri": "https://localhost:8080/"
    },
    "id": "bKfvyiNXp-eK",
    "outputId": "d9c284d3-0fca-4454-9afc-f49b7effd706"
   },
   "outputs": [
    {
     "data": {
      "text/plain": [
       "['Abstract.',\n",
       " 'Fifteen years ago, United Nations world leaders defined millenium development goal 4 (MDG 4): to reduce under-5-year mortality rates by two-thirds by the year 2015.',\n",
       " 'Unfortunately, only 27 of 138 developing countries are expected to achieve MDG 4.',\n",
       " 'The majority of childhood deaths in these settings result from reversible causes, and developing effective pediatric emergency and critical care services could substantially reduce this mortality.',\n",
       " 'The Ebola outbreak highlighted the fragility of health care systems in resource-limited settings and emphasized the urgent need for a paradigm shift in the global approach to healthcare delivery related to critical illness.',\n",
       " 'This review provides an overview of pediatric critical care in resource-limited settings and outlines strategies to address challenges specific to these areas.',\n",
       " 'Implementation of these tools has the potential to move us toward delivery of an adequate standard of critical care for all children globally, and ultimately decrease global child mortality in resource-limited settings.',\n",
       " 'In addition to preventative care and nutritional support, the development of effective pediatric emergency and critical care services in resource-limited countries can substantially reduce global mortality in children under 5 years (5, 6) .',\n",
       " 'Resourcelimited settings, or areas where the capability to provide care for life-threatening illness is limited to basic health care resources, pose a specific challenge to the development and sustainability of critical care services (6) .',\n",
       " 'THe 2014 eBOLA ePiDeMiC.',\n",
       " 'The Ebola outbreak that ravaged West Africa provided an example of the considerable need for better healthcare infrastructure and supportive care of critically ill patients in resource-limited settings.',\n",
       " 'This is not a new revelation: natural and human-generated events, such as disasters and wars, produce acute and unpredictably large numbers of critically ill patients around the world.',\n",
       " 'THe 2014 eBOLA ePiDeMiC.',\n",
       " 'Recent historical examples include the severe acute respiratory syndrome (SARS) and H1N1 influenza epidemics.',\n",
       " 'As of June 2015, the overall fiscal impact of the Ebola epidemic has been estimated to be upwards of $30 billion, while only $7.1 billion has been pledged thus far (7, 8) .',\n",
       " 'THe 2014 eBOLA ePiDeMiC.',\n",
       " 'According to the latest Center for Disease Control (CDC) data, Guinea, Liberia, and Sierra Leone were the hardest hit with the Ebola epidemic.',\n",
       " 'Suspected, probable, and confirmed Ebola infections have surpassed 25,000, with over 11,000 deaths (9) .',\n",
       " 'Historically, children have been underrepresented in Ebola virus disease (EVD) outbreaks due to outbreak dynamics and societal structure (10) .',\n",
       " 'Reliable estimates of affected pediatric patients are limited, though a recent report by the WHO Ebola Response Team estimated 1400 EVDrelated deaths in pediatric patients (7) .',\n",
       " 'Case-fatality rates were highest in patients <5 years.',\n",
       " 'Children demonstrated relatively shorter incubation times and more rapid progression to death, emphasizing the need for early recognition and prompt access to care (11) .',\n",
       " 'THe 2014 eBOLA ePiDeMiC.',\n",
       " 'The Ebola outbreak highlighted the fragile state of health care systems in resource-limited settings.',\n",
       " 'There is an urgent need for a paradigm shift in healthcare delivery and outcomes of critical illness in these settings.',\n",
       " 'What Ebola patients need most stems from the foundation of critical care and public health: early recognition, supportive care, fluid resuscitation, and electrolyte management within an infrastructure organized to support hygiene, sanitation, isolation practices, safe handling, and transportation services (12) .',\n",
       " 'Unfortunately, patients in Western Africa died due to the inability of health care systems to provide this foundation (13) .',\n",
       " 'The current emphasis on disease specific as opposed to care delivery-based programs in resource-limited settings makes the provision of efficient and effective healthcare challenging, clearly shown by this Ebola outbreak.',\n",
       " 'Improvement in the fundamentals of critical care medicine can and should be instrumental in helping make these urgently needed health care delivery shifts happen.',\n",
       " 'DeveLOPMeNT OF PeDiATRiC CRiTiCAL CARe MeDiCiNe.',\n",
       " 'History Unlike other medical specialties defined by organ system, disease process, or procedure, critical care has struggled to establish its identity.',\n",
       " 'The concept of frequent monitoring of vital signs in postoperative patients evolved in Germany and the US between 1890 and 1910.',\n",
       " 'The poliomyelitis epidemic of the 1920-1950s provided momentum for the development of modern respiratory care and intensive care medicine.',\n",
       " 'Polio wards represented the first respiratory intensive care units with specialized nursing and medical staffs providing 24 hour care for patients with organsystem failure (14) .',\n",
       " 'DeveLOPMeNT OF PeDiATRiC CRiTiCAL CARe MeDiCiNe.',\n",
       " \"The history of pediatric critical care dates back to 1955, when the first unit was opened at the Children's Hospital of Goteborg in western Sweden.\",\n",
       " 'Physicians used their knowledge and skills acquired in managing polio patients to provide intensive care services, including mechanical ventilation to newborns with respiratory distress syndrome, postoperative children with sepsis, and cases of severe pneumonia.',\n",
       " 'It was not until 1971 that the first pediatric intensive care unit (PICU) dedicated to older infants and children was opened in Toronto, Canada.',\n",
       " 'Subsequent decades brought many innovations in care, changes in care models, and maturation into a recognized subspecialty with accredited fellowship training programs.',\n",
       " 'Pediatric Critical Care in Resource-Rich Settings.',\n",
       " 'The definition of a patient in need of critical care has evolved over the years.',\n",
       " 'To allow for policy development of new PICUs across the US, the American Academy of Pediatrics published PICU admission criteria in 1999 that were reaffirmed in 2008 (15) .',\n",
       " 'As one could expect, the criteria were broad and deliberately vague: (1) severe, life-threatening, or unstable cardiovascular, neurologic, hematologic/oncologic emergencies, (2) endocrine/ metabolic, gastrointestinal, renal and/or multisystem disease, (3) postoperative patients requiring frequent monitoring and potentially requiring intensive intervention, and (4) conditions that necessitate the application of special technologic needs, monitoring, complex intervention, or treatment, including medications associated with the disease that exceed individual patient care unit policy limitations.',\n",
       " 'The Society of Critical Care Medicine (SCCM) guidelines recommend only that \"ICU admission criteria should select patients who are likely to benefit from ICU care (16) . \"',\n",
       " 'Limited information exists to support which patients fall into this category.',\n",
       " 'This variation in admission practices makes quantification of critical illness difficult (17) .',\n",
       " 'Pediatric Critical Care in Resource-Rich Settings.',\n",
       " 'Organizational details of intensive care units vary considerably.',\n",
       " 'The presence and utilization of PICUs, intermediate units, stepdown units, and specialty-specific units differ from country to country, state to state (18) .',\n",
       " 'Composition of PICU team members has not been standardized and is often driven by the availability of resources in that institution.',\n",
       " 'Most team members (physicians, nurses, respiratory therapists, pharmacists, dieticians, etc.)',\n",
       " 'have completed some form of pediatric ICU-specific training.',\n",
       " 'Pediatric Critical Care in Resource-Limited Settings.',\n",
       " 'Understanding the true burden of critical illness in resourcelimited settings is challenging, hindering both local and global appreciation.',\n",
       " 'As outlined by Murthy (19) , three general approaches can be used to try to estimate the global burden of critical illness.',\n",
       " 'The first includes counting patients admitted to ICUs around the world, which would provide an underestimate, given the lack of ICUs in resource-limited settings.',\n",
       " \"The second method extrapolates from resource-rich countries' epidemiology, which is fraught with its own error as discussed above.\",\n",
       " 'The third approach would use the assumption that all deaths occurring in a region involved critical illness at some stage of the illness, likely leading to an overestimate.',\n",
       " 'The lack of a reliable method has led to substantial variation in disease burden estimates in resource-limited settings.',\n",
       " 'During the 2009 H1N1 pandemic, two independent groups estimated regional H1N1-associated mortality and found great variation, in particular in the African region (20) (21) (22) .',\n",
       " 'The 2014 EVD outbreak was difficult to quantify, leading to discrepancies in numbers reported by WHO and CDC (9) .',\n",
       " 'The first EVD outbreak in Congo in 1976 was halted in part by clearly defining cases and contacts, highlighting the importance of understanding epidemiology in resource-limited settings (23) .',\n",
       " 'Pediatric Critical Care in Resource-Limited Settings.',\n",
       " 'Application of illness severity scores developed in resourcerich countries, such as PRISM and PIM, have been used to predict mortality and thereby the burden of critical illness (24) .',\n",
       " 'A variety of scores have been evaluated in resource-limited settings with conflicting results.',\n",
       " 'Although PIM and PIM2 were validated at tertiary care PICUs in India and Pakistan (25, 26) , both PRISM and PIM had poor predictability in other centers in India and South Africa (27, 28) .',\n",
       " 'Scores that are reliably applicable in all resource-limited settings are lacking, making definition of critical illness and estimation of burden of disease more challenging.',\n",
       " 'Pediatric Critical Care in Resource-Limited Settings.',\n",
       " 'The most recent Ebola outbreak highlighted the deficiency in the ability to provide basic acute and critical care services in resource-limited settings.',\n",
       " 'Patients with illnesses that could be cared for in an intermediate or step-down unit in one part Pediatric Critical Care in Resource-Limited Settings Frontiers in Pediatrics | of the world may require PICU-level care in another.',\n",
       " 'Therefore, application of aforementioned AAP admission criteria could be done with resource-driven adjustments.',\n",
       " 'SCCM guidelines, as stated above, weigh heavily here with attention on appropriate allocation of care.',\n",
       " 'Pediatric Critical Care in Resource-Limited Settings.',\n",
       " 'Organizational details of pediatric ICUs in these settings are lacking.',\n",
       " 'Team composition is often limited to a general pediatrician, registrar/trainee, and a handful of senior-level nurses.',\n",
       " 'Pediatric intensivists, respiratory therapists, pharmacists, or dieticians are often not available (6) .',\n",
       " 'The 2006 World Health Report stated that there was a global shortage of 4.3 million doctors, midwives, nurses, and support workers.',\n",
       " \"This shortage can be explained by (1) lack of health staff training, (2) subsequent loss to higher paying jobs within a trainee's country after training is complete, or (3) emigration to richer countries.\",\n",
       " 'While the latter causes are attributed to bureaucratic infrastructure around appropriate financial compensation and are difficult to correct on a mass scale, the lack of healthcare staff training can be ameliorated.',\n",
       " 'With the recent Ebola outbreak, a common assumption was that the lack of material resources had been the dominant barrier to clinical care.',\n",
       " 'However, in some areas, basic supplies such as intravenous catheters, fluids, and oral electrolyte replacement solutions were often readily available, but the lack of trained personnel to administer them was the true limitation (13) .',\n",
       " 'wHAT HAS BeeN DONe TO ADDReSS MiLLeNiUM DeveLOPMeNT GOAL 4.',\n",
       " 'With unacceptably high mortality rates in children highlighted both during times of epidemics and in times of relative steady state, the WHO and UNICEF strategies for reducing mortality in children under 5 years initially focused on outpatient management and primary care (29) .',\n",
       " 'The first WHO guidelines, the Integrated Management of Childhood Illness (IMCI), are an evidence-based strategy for assessing and treating sick children in the ambulatory care setting.',\n",
       " 'Even with the focus on primary care, these guidelines assume that sick children will be referred to a hospital for escalation of care if needed (29) .',\n",
       " 'With appropriate IMCI use, 16-46% of children will require referral to a hospital (30) (31) (32) (33) .',\n",
       " 'wHAT HAS BeeN DONe TO ADDReSS MiLLeNiUM DeveLOPMeNT GOAL 4.',\n",
       " 'The need for excellence in clinical care does not end simply with the referral.',\n",
       " 'In an urban population in Guinea-Bissau, 45% of children under 5 years were hospitalized, and the in-hospital mortality was 12% in 2007 (34), compared with an inpatient mortality of 0.84% in the US in 2009-2010 (35) .',\n",
       " 'Challenges in presentation, triage, initial management, and admission to the hospital setting prompted guideline development and interventions for improved patient outcomes.',\n",
       " 'Nolan demonstrated that more than half of children were undertreated or inappropriately treated with antibiotics, fluids, or oxygen in 21 hospitals across seven countries in Asia and Africa (36) .',\n",
       " 'wHAT HAS BeeN DONe TO ADDReSS MiLLeNiUM DeveLOPMeNT GOAL 4.',\n",
       " 'In response to the need for improved in-hospital management, the WHO acute hospital care guidelines, termed the Emergency Triage, Assessment, and Treatment (ETAT) guidelines, were developed.',\n",
       " 'This training program is designed to prioritize care for children who need urgent resuscitation and hospital admission.',\n",
       " 'In Malawi, uptake and implementation of the ETAT guidelines streamlined the delivery of care and reduced hospital mortality by half (10-18% down to 6-8%) (4).',\n",
       " 'However, the first 48 hours of admission were identified as the vulnerable period where skills beyond emergency care were needed.',\n",
       " 'ETAT-plus admission care (ETAT+) was developed in Kenya to address this (37) .',\n",
       " 'Despite some positive results of ETAT+ implementation and further dissemination of these guidelines and training, reports indicate significant variation in uptake of best practices (36, (38) (39) (40) (41) .',\n",
       " 'wHAT HAS BeeN DONe TO ADDReSS MiLLeNiUM DeveLOPMeNT GOAL 4.',\n",
       " 'Various other hospital-based initiatives have allowed for further intervention of pediatric critical care in resource-limited settings.',\n",
       " 'The WHO Integrated Management of Adult and Adolescent Illness (IMAI) program, a sister initiative to IMCI, created a comprehensive manual for the care of hospitalized patients by clinicians in district hospitals, which includes sections on severe illness management (42) .',\n",
       " 'The European Society of Intensive Care Medicine produced sepsis management guidelines targeting resource-limited settings (43) .',\n",
       " 'These largely expert opinionbased documents fill major gaps in management guidelines but require further research to provide missing evidence and refine best-practice recommendations.',\n",
       " 'wHAT HAS BeeN DONe TO ADDReSS MiLLeNiUM DeveLOPMeNT GOAL 4.',\n",
       " 'In addition to the development of guidelines, training modules and various curricula have been developed to build further educational capacity.',\n",
       " 'Courses, such as advanced pediatric life support (APLS and PALS), often in partnership with a mission organization or supporting institution, have been widely implemented (44) .',\n",
       " 'Nursing, physician, and paramedic pediatric emergency curricula have been successfully implemented in Ethiopia and Ghana (45) .',\n",
       " 'wHAT HAS BeeN DONe TO ADDReSS MiLLeNiUM DeveLOPMeNT GOAL 4.',\n",
       " 'The WHO also produced the Pocket Book of Hospital Care for Children, providing clinical guidelines for physicians and nurses delivering pediatric hospital care in resource-limited settings (46) .',\n",
       " 'These guidelines have been adapted to local needs and increasingly adopted by Ministries of Health around the world (47) .',\n",
       " 'An online and postal survey of almost 100 low-and middle-income countries reported that 25% have successfully implemented and used the Pocket Book in their clinical care, and 40% showed at least partial implementation (48, 49) .',\n",
       " 'Adherence and local adaptation of WHO guidelines for treatment of severe malnutrition in South Africa significantly decreased mortality by 7-15% in various hospital settings (50) .',\n",
       " 'wHAT HAS BeeN DONe TO ADDReSS MiLLeNiUM DeveLOPMeNT GOAL 4.',\n",
       " 'However, recent evidence from Kenya showed that health workers at the hospital level were unable to provide appropriate care for severely ill newborns or children with inadequacies in key tasks, such as prescription of antibiotics and feeds, even when resources are available (51) .',\n",
       " 'In attempting to improve these deficiencies, the level of engagement of senior and particularly midlevel clinical managers was important (52) .',\n",
       " 'These studies show that the simple availability of either WHO or national guidelines alone do not improve hospital care for children as hoped.',\n",
       " 'It appears that broader, more system-oriented interventions addressing the many important influences on provider or user behavior are needed (53) .',\n",
       " 'A recent multifaceted approach addressing deficiencies in knowledge, skills, motivation, and organization of care utilizing face-to-face feedback of performance, supportive supervision, and provision of a local facilitator resulted in more sustained improvements of pediatric care in Kenya (38) .',\n",
       " 'THe COST OF CRiTiCAL CARe.',\n",
       " 'Critical care is complex and expensive, regardless of where it is practiced.',\n",
       " 'Daily ICU costs in Indian private hospitals are similar to North America (54) .',\n",
       " 'However, in many resource-limited settings, the ICU provides basic rescue interventions for children and young adults who are ill with curable diseases.',\n",
       " 'This is in contrast to the shift in practice of ICUs in high-income countries, which now admit and care for mostly complex patients with often incurable diseases during long hospitalizations (55) .',\n",
       " 'Provision of intensive care services may not seem rational or cost-effective in low-income countries, especially in those countries with the highest child mortality rates (56) .',\n",
       " 'However, a short duration of critical care that treats acute, life-threatening, curable illnesses affecting millions of young people worldwide may have a large impact on mortality (55) .',\n",
       " 'THe COST OF CRiTiCAL CARe.',\n",
       " 'The World Health Organization defines a \"very cost-effective\" intervention as one that costs less than the value of gross domestic product (GDP) per capita per disability-adjusted life year (DALY) (57) .',\n",
       " 'This includes not only many primary care and preventative interventions (58-60) but also management of childhood pneumonia and some surgical interventions (44, (61) (62) (63) .',\n",
       " 'Critical care costs include expenses for personnel, equipment, and consumables, as well as the impact of long-term morbidity of survivors.',\n",
       " 'The higher costs of ICU care contribute substantially to the limitations of critical care infrastructure in resource-limited settings (18) .',\n",
       " 'THe COST OF CRiTiCAL CARe.',\n",
       " 'Some relatively inexpensive and simple critical care interventions dramatically improve patient outcomes, including the introduction of oxygen concentrators, oximetry monitoring, and supplemental oxygen in Papua New Guinea, which decreased pediatric pneumonia case fatality by 35% (64) .',\n",
       " 'Development of low-cost intensive care equipment, such as inexpensive ventilators (65, 66) , and relocation of ICU equipment production into low-or low-middle-income countries to avoid expensive import from North America and Europe may help drive down the cost (67) .',\n",
       " 'Further evaluation of cost-effective interventions is needed to understand which ones are appropriate, feasible, and sustainable.',\n",
       " 'In resource-limited settings, cost analyses would not only guide decision-making around resource allocation in the ICU, but also help determine health infrastructure and systems needs to address the long-term morbidity of ICU survivors (68).',\n",
       " 'eTHiCS OF PeDiATRiC CRiTiCAL CARe iN ReSOURCe-LiMiTeD COUNTRieS.',\n",
       " 'The ethical issues of increasing emergency and critical care services in resource-limited settings remain challenging.',\n",
       " 'The main areas of consideration include global justice, resource allocation, and local cultural preferences.',\n",
       " 'Although a complete discussion of global health ethics is beyond the scope of this review, we will briefly discuss the major issues of relevance for critical care and refer readers to Simon Caney\\'s book, \"Justice Beyond Borders\" (69) , for additional information.',\n",
       " 'Global Justice.',\n",
       " 'Arguments of global justice state that healthcare services are fundamental and universal human rights to be shared by the masses (19) .',\n",
       " 'The just distribution of healthcare services across all human populations remains a serious challenge (70, 71) .',\n",
       " 'One of the main arguments for the provision of critical care services in resource-limited settings lies within the definition of cosmopolitanism, which affirms three principles: the worth of individuals, equality, and the existence of obligations binding to all.',\n",
       " 'Global disparities are highlighted during times of crisis, such as the Ebola outbreak, leading to outcries for humanitarian interventions (69) .',\n",
       " 'This implies that the responsibility and commitment of those from resource-rich regions is required to combat critical illness and strengthen health care infrastructure for those in resource-limited settings (69) .',\n",
       " 'Resource Allocation.',\n",
       " 'The allocation of critical care services in the most deprived areas of the world must not seek to imitate the developed world (72).',\n",
       " 'Riviello and colleagues have identified ways to address ethical dilemmas of resource allocation in resource-limited settings (73) , including obtaining data on disease prognosis with and without ICU level care to understand its impact; development of guidelines to assist in such decisions in an open and honest manner; and creation of hospital policies on the use of critical care services (73) .',\n",
       " 'Resource Allocation.',\n",
       " 'The following examples highlight the ethical challenges that have arisen in resource allocation of critical care services.',\n",
       " 'The 2010 Haiti earthquake, which killed 230,000 and displaced approximately 2 million, prompted the development of one of the first ever neonatal-PICUs in the country via non-governmental organization support.',\n",
       " 'Limitation of care decisions were made in the setting of cardiac arrest or respiratory failure necessitating intubation in children with chronic disease.',\n",
       " 'The delivery of quality ICU care was challenging, but was most successful and beneficial for otherwise healthy children who presented with early, acute, reversible disease (74) .',\n",
       " 'In South Africa, in an attempt to provide a reasonable process for fair and equitable utilization of scarce resources, the local PICU team at Red Cross War Memorial Hospital developed explicit admission exclusion criteria ( Table 1 ) (75) .',\n",
       " 'Family and Cultural Preferences.',\n",
       " 'In addition to the difficulties with resource allocation, providing ICU level care while respecting family, cultural, and religious preferences can be challenging.',\n",
       " 'Local belief systems greatly influence the approach to life and death circumstances and must be a part of conversations between providers and families.',\n",
       " \"Decisions surrounding escalation of care need to be made in the context of potential financial impoverishment of the entire extended family, especially if the most likely end result is a child's long-term morbidity or death (5, 8, 9) .\",\n",
       " 'In many resource-limited settings, the provision of care follows a fee-for-service model (67, 76) .',\n",
       " 'Even for patients with a good prognosis, care may be limited if the family is unable to afford it or the hospital unable to absorb the cost (77) .',\n",
       " 'Incorporation of international guidelines into local practice',\n",
       " 'Category Specific exclusions Comments.',\n",
       " 'Futile care A child who has been declared brain dead The permanent vegetative state was not addressed in the admission criteria as this was more likely to be encountered as a problem following stay in the PICU A child who has had a cardiac arrest and has not reestablished a normal respiratory pattern, or who has fixed dilated pupils <5% of children in this category survive the PICU admission with an acceptable neurological outcome The child who has suffered a head injury such that there is no chance of recovery from that injury Children with underlying lethal conditions Children with burns >60% body surface area, where the surgical team are not able to guarantee that debridement and appropriate cover will happen within 24-48 h of admission Based on data that if children are not debrided and grafted early on in the course of their burn management, they suffer a prolonged course with considerable pain, anxiety, and recurrent infection.',\n",
       " 'The death rate in these children is also unacceptably high Children with chronic renal failure where there is no commitment to long-term dialysis Children with severe and lethal chromosomal abnormalities (e.g., Edward syndrome or thanatophoric dwarfism) Children with malignancies that are not responding to therapy Children with inoperable cardiac lesions Children with currently poor outcomes Children with established HIV infection.',\n",
       " '\"Children with established HIV infection whose lives are in danger from AIDS-related diseases will not normally be considered for admission.',\n",
       " 'A child who is successfully established on ARV, and where the reason for admission does not relate to the underlying disease and/or its therapy will be considered for admission.\"',\n",
       " 'Category Specific exclusions Comments.',\n",
       " 'Based on data that despite the availability of ARV, only approximately 20% of children with HIV infection who were admitted to the PICU were known to be alive and on ARV 6 months later.',\n",
       " 'These data have not changed since the availability of antiretroviral therapy Children with kwashiorkor Based on a virtual 100% mortality in the ICU for these patients Children who have been in hospital wards for >5 days and are deteriorating despite appropriate therapy Based on an extremely high mortality rate in this group of patients.',\n",
       " 'The failure to respond to therapy suggests that they have underlying conditions that are not amenable to conventional therapy Children with severe adenoviral pneumonia who have not responded to appropriate therapy in the wards Based on data showing that children with severe adenoviral infection requiring ventilation have a high mortality and very high morbidity from chronic lung disease Children with diagnosed severe metabolic disorders (e.g., maple syrup urine disease) for which established treatment programs in the hospital and community are not established Children with acute hepatic failure, unless there is a reasonable likelihood that an acute transplant will be offered within the first 24-48 h of PICU admission Based on the fact that these children have a very poor likelihood of reasonable outcome Children with complications of meningitis requiring ventilation (i.e., the requirement for ventilation is related to CNS disease rather than pneumonia) Children with cardiomyopathy unresponsive to therapy, and where transplantation is not being considered This does not apply to the time of acute, first presentation.',\n",
       " 'It is very difficult to prognosticate at that stage.',\n",
       " 'This comment applies to children who have previously been treated, and where there has been time to make an appropriate assessment of likely prognosis.',\n",
       " 'CRiTiCAL CARe iNFRASTRUCTURe AND CAPACiTY BUiLDiNG iN ReSOURCe-LiMiTeD SeTTiNGS.',\n",
       " 'If the Ebola virus were to have appeared in high-income countries, there is little doubt that healthcare systems would have effectively contained and eliminated the disease with far lower case-fatality rates than those reported in West Africa over the past couple years.',\n",
       " 'As mentioned above, the lack of adequate health care staff, resources, and systems required for the delivery of high-quality health care services contributed to the poor outcomes of the EVD epidemic in West Africa (78) .',\n",
       " 'Emergency care, including triage, is often one of the weakest parts of health systems in resourcelimited settings.',\n",
       " 'When triage is well organized, it saves lives in a cost-effective manner in a wide range of settings, patient populations, and systems (4, 79) .',\n",
       " 'Emergency and triage training (80, 81) ; transport training (82); simplified protocols, and treatment algorithms have all resulted in reduced morbidity and mortality of critically ill children (4) .',\n",
       " 'The Ebola epidemic highlighted deficiencies in healthcare systems, emphasizing broad global inequalities.',\n",
       " 'This epidemic should, therefore, not only lead to provision of critical aid in the short-term, but also lead to investment in creating systems that provide sustained, effective quality health care for all critically ill patients (83) .',\n",
       " 'This effort should focus on increasing the health care work force, available resources, and systems.',\n",
       " 'Health Care work Force and education.',\n",
       " 'The scarcity of health care workers in sub-Saharan Africa poses a serious challenge .',\n",
       " \"As an example, even before the Ebola outbreak, Liberia's 4.3 million people were served by just 51 physicians (84) .\",\n",
       " 'The dearth of physicians with training in pediatric emergency and critical care is even more significant.',\n",
       " 'In Nigeria, 380 critical care trained nurses care for a population of over 140 million (85) .',\n",
       " 'Training opportunities in critical care in resource-limited settings are scarce, frequently requiring travel to high-income regions, which increases the risk of emigration of health care providers from low to high-resource countries, commonly referred to as \"brain drain\" (86, 87).',\n",
       " 'Recognizing the impact of this phenomenon on workforce shortages, the WHO unanimously adopted the WHO Global Code of Practice on the International Recruitment of Medical Personnel in 2010 (88): this Code aims to promote ethical recruitment of health personnel to strengthen health systems and member states are discouraged from active recruitment of health workers from those countries faced with critical shortages of personnel.',\n",
       " 'Unfortunately, the Code of Practice has not slowed the emigration of physicians from sub-Saharan Africa to the US (89).',\n",
       " 'Solutions include posing limitations on active \"poaching\" by high-income countries, founding and recognition of national critical care societies (90), development of domestic training programs for healthcare staff linked to a commitment of service (73, 91) , utilization of physician extenders or task-shifting (92) , and building capacity through education initiatives.',\n",
       " 'Critical Care Education.',\n",
       " 'Despite a long history of pediatric critical care training in resourcerich countries, substantial variation in duration, content, and assessment suggest that the optimum model for training remains unclear (93) .',\n",
       " 'The lack of a gold standard in training makes the design of a critical care curriculum in resource-limited settings much more complicated.',\n",
       " 'Many countries have implemented local training programs with guidance from local experts; however, most of these programs lack oversight from a larger governing body or society, such as the American Board of Pediatrics, the Royal College of Physicians and Surgeons of Canada, or the Joint Faculty of Intensive Care Medicine of Australia and New Zealand.',\n",
       " 'This leads not only to discrepancies in the provision of care but also to duplication of efforts in regions already struggling with scarce resources.',\n",
       " 'Attempts at creation of pediatric critical care training programs through international collaboration have begun in several places, including both Ecuador and Kenya.',\n",
       " '1 These partnerships seek to address the issues of implementation of an educational curriculum, the applicability to the local health care systems, diseases, and culture and the long-term sustainability.',\n",
       " 'Critical care training can be further leveraged through visiting, temporary trainers from resource-rich countries, until local critical care capacity is self-sufficient and local trainers have been trained.',\n",
       " 'Long-term success and sustainability of these initiatives remain to be seen.',\n",
       " 'Critical Care Education.',\n",
       " 'Critical care education and training can also be supplemented with available free pediatric critical care resources.',\n",
       " 'Some examples include Open Pediatrics 2 and Pediatrics BASIC 3 .',\n",
       " 'An online version of Pediatric Fundamental Critical Care Support 4 is available; however, the minimum cost of $600 USD makes global access, particularly in resource-limited settings, prohibitive.',\n",
       " 'Critical Care Education.',\n",
       " 'Simulation training provides another opportunity to engage learners regardless of language and cultural barriers and has been found especially useful in introducing primary triage and culturally sensitive treatments (94, 95) .',\n",
       " 'With the improvement and advancement in technology, the interactive delivery of healthcare over distance using technology such as video conferencing or telemedicine can increase access, improve outcomes, and reduce costs (96) .',\n",
       " 'In work done by Médecins Sans Frontières (MSF) in Somalia, introduction of telemedicine resulted in a change in case-management in 64% of children for which it was used and detection of a previously undetected life-threatening condition in 25% (97) .',\n",
       " 'However, the reliable application of this technology in resource-limited settings can be challenging.',\n",
       " 'The MSF system demonstrated a median response time of 13 h making its utility in critical, time-sensitive cases, somewhat limited (98) .',\n",
       " 'Task-Shifting.',\n",
       " 'This practice consists of training non-physicians to substitute for critical care physicians.',\n",
       " 'It has the ability to aid in the development and dissemination of guidelines and protocols to address the existing shortfall of limited ICU capacity and resources (18) .',\n",
       " 'In the local communities, community health workers can play a prominent role in early recognition and triage of severely ill children.',\n",
       " 'Their efficacy in the lowest resource areas of the world (childhood mortality >30 per 1000 children) has been validated by Bang who demonstrated an eightfold reduction in neonatal mortality with the administration of intramuscular (IM) antibiotics alone by village health workers trained in neonatal care and sepsis (99) .',\n",
       " 'They also serve a role in encouraging patients and families to seek care early at health care centers.',\n",
       " 'Once in the hospital setting, appropriately trained nurses are required for successful integration of prevention and disease treatment (83) .',\n",
       " 'Task-Shifting.',\n",
       " 'Specialist nurses or anesthetic medical assistants trained in critical care are vital when physicians are scarce (72) .',\n",
       " 'From 1998 to 2008, MSF trained 24 nurses to become nurse anesthetists in Haiti with high completion and retention rates.',\n",
       " 'They were essential in providing anesthesia for 330 procedures during the post-hurricane emergency in 2008 (100) .',\n",
       " 'Severe shortages of acute care and healthcare workers in rural Uganda prompted the development of an emergency mid-level provider training program.',\n",
       " 'Nurses participated in a 2-year program.',\n",
       " 'Outcomes of over 10,000 patients were evaluated and demonstrated lower than previously published regional mortality rates (101) .',\n",
       " 'A 2014 Cochrane review found evidence that shifting responsibility from physicians to adequately trained and supported nurses and/or community healthcare workers for managing HIV patients did not decrease quality of care, and in fact, may have decreased the numbers of patients lost to follow-up (102) .',\n",
       " 'The utility of taskshifting in critical care settings needs to be further explored before recommendations around its implementation can be made.',\n",
       " 'Critical Care Guidelines and Toolkits.',\n",
       " 'Low-cost, high yield critical care in resource-limited settings can be provided using practice-support tools, such as guidelines, protocols, checklists, and standard order sets (103) .',\n",
       " 'A revised South African Triage Scale (SATS) for children was validated in multiple centers across South Africa with high sensitivity and negative predictive value to assist in early prioritization of pediatric patients seeking emergency care.',\n",
       " 'It uses clinical signs along with a triage early warning score (TEWS) to assist in early recognition of acute illness, increase efficiency of patient discharges, all while promoting more effective use of hospital resources (104) .',\n",
       " 'Integration of emergency triage assessment and treatment (ETAT) guidelines into local practice and use of neonatal resuscitation practice through Helping Babies Breathe have shown decrease in childhood and neonatal mortality, respectively (4, 95, 105) .',\n",
       " 'During the H1N1 influenza pandemic, the WHO assembled a group of experts to generate a document addressing management of severe respiratory distress and shock in resourcelimited settings (106) .',\n",
       " 'More recently, similar advice was produced by the WHO for the clinical management of novel coronavirus from outbreaks in 2012 in the Middle East (107) .',\n",
       " 'Critical Care Guidelines and Toolkits.',\n",
       " 'The Global Pediatric Sepsis Initiative in 2011 categorized best-practice interventions based on under-5-year mortality and developed a web-based educational tool to improve the quality of care for children with sepsis around the globe (108) .',\n",
       " 'The World Federation of Pediatric Intensive and Critical Care Societies has created both acute and post-acute care bundles for pediatric sepsis with the hopes of providing a conceptual framework for resuscitation management (43) .',\n",
       " 'Critical Care Guidelines and Toolkits.',\n",
       " 'Still, the direct application of guidelines developed in resource-rich settings to resource-limited settings must be done with caution.',\n",
       " 'The Fluid Expansion as Supportive Therapy (FEAST) trial was a large, multi-center, randomized trial conducted in sub-Saharan Africa that implemented sepsis initiatives with early fluid resuscitation.',\n",
       " 'The trial demonstrated increased 48 hour hospital mortality for the intervention groups (20-40 mL/kg of 5% albumin or 0.9% saline) as compared to the control group (no bolus fluid resuscitation) (109) .',\n",
       " 'Although highly criticized, these unexpected findings call to question the assumption that widespread application of resource-rich guidelines to resource-limited settings will yield similar effects.',\n",
       " 'In addition, an attempt to implement the 2008 Surviving Sepsis Campaign guidelines in hospitals across the country of Mongolia highlighted a dramatic shortage of the required hospital facilities, equipment, drugs, and disposable materials necessary for implementation (110) .',\n",
       " 'Thus, a thorough assessment of available FiGURe 3 | The sepsis initiative administrative bundles pyramid.',\n",
       " 'This pyramid demonstrates the administrative recommendations according to levels of health resources from the health resource-scarce (level A) to health resource-abundant (level D).',\n",
       " 'The foundation of care is level A.',\n",
       " 'It is expected to be provided to populations with <5-year child mortality and >30 of 1,000 children.',\n",
       " 'Level B is distinguished from level A by the ability to deliver oxygen and intravenous therapies.',\n",
       " 'It is expected to be provided to populations with <5-year child mortality and <30 of 1,000 children.',\n",
       " 'Category A indicates non-industrialized setting with child mortality rate >30 of 1,000 children; category B indicates non-industrialized setting with child mortality rate <30 of 1,000 children; category C indicates industrialized developing nation; and category D indicates industrialized developed nation.',\n",
       " 'Level C is distinguished from level B by the ability to deliver machine-driven therapy to all.',\n",
       " 'It is expected to be provided in the developing industrialized setting.',\n",
       " 'Level D is distinguished from level C by the presence of an organized transport system and the ability to deliver extracorporeal therapies to all.',\n",
       " 'It is expected to be provided in the developed industrialized setting.',\n",
       " 'Categories A and B are in the non- resources in each local setting is imperative prior to adapting clinical practice to match that of parts of the world with seemingly unlimited resources.',\n",
       " 'Critical Resources.',\n",
       " 'In some university and private hospitals in South Africa, Uganda, Kenya, Rwanda, and Namibia, critical care resources are comparable to Western countries.',\n",
       " 'However, in township and district hospitals in sub-Saharan Africa, and South East Asia, ICU care is often very limited (43) .',\n",
       " 'What can be found at the district hospital level may be a four-to eight-bed mixed adult and pediatric ICU with one to two nurses and minimal ancillary support.',\n",
       " 'Hospitals often have a very limited supply of patient monitors, mechanical ventilators, necessary disposable materials (ECG stickers, tubing, and so forth), or electricity.',\n",
       " 'Although the WHO recommends oxygen concentrators to be used as the primary oxygen supply for resource-limited settings, many of these countries utilize pressurized oxygen cylinders for oxygen delivery because they are less expensive, do not require electricity or ongoing maintenance, and are easier to use.',\n",
       " 'However, transportation difficulties, exhaustible oxygen supply, and restricted patient use outweigh the initial savings, leading to frequent oxygen shortages (111, 112) .',\n",
       " 'Appropriate supportive care was shown to help reduce many unnecessary deaths in the Ebola epidemic (13) .',\n",
       " 'Although often considered part of basic care delivery in resource-rich settings, the availability and sustainability of clean water, reliable electricity, oxygen and compressed air, medical equipment, and support services (radiology, laboratory medicine, microbiology, and transfusion services) are essential for the delivery of critical care.',\n",
       " 'In some areas, lack of basic health care resources, including protective gloves and gowns, intravenous fluids, and simple protocols or guidelines of care, limited the impact of frontline healthcare providers who risked their lives to care for those affected by Ebola (83) .',\n",
       " 'As a first step, providing ongoing access to these basic resources may improve survival in many resource-limited settings.',\n",
       " 'Critical Resources.',\n",
       " 'In addition to epidemics, natural and man-made disasters have highlighted the need for an emergent increase in critical care capacity globally.',\n",
       " 'In 2010, the Pediatric Emergency Mass Critical Pediatric Critical Care in Resource-Limited Settings Frontiers in Pediatrics | Care Task Force, composed of 36 experts in domains, including medicine, public health, and disaster response, recommended that equipment and supplies be available to triple the typical ICU capacity for at least 10 days during times of disaster or epidemic illness regardless of location (113) .',\n",
       " 'The 2014 CHEST consensus statement on critical care in resource-limited settings calls for development of feasibility plans to address a protracted event requiring long-term use of critical care resources and capacity to immediately expand hospital critical care resources by 20-200% depending on the surge response required by the disaster/pandemic (114, 115) .',\n",
       " 'Healthcare Systems.',\n",
       " 'Despite recent global movement to expand access to health care, the Ebola outbreak was an important reminder to carefully consider two simple questions as outlined by Boozary et al.',\n",
       " ': What kind of care are people going to access?',\n",
       " 'Is that care worth having, and can it be made better (83) ?',\n",
       " 'In order to avoid distrust in healthcare systems by local communities, as evident during the recent Ebola outbreak, the focus on quality of care and its measurement is key in resource-limited settings.',\n",
       " 'Healthcare Systems.',\n",
       " 'Although it is difficult to define quality improvement measures, recent efforts have been made by Duke using a consensusbased, international approach to identify indicators of hospital care for children and newborns suitable for use in resourcelimited settings (116) .',\n",
       " 'For example, structural indicators of quality, including availability of intravenous fluids, epinephrine for injection, presence of a triage system, and prioritization and grouping of severely ill children for increased observation were all highly rated quality indicators applicable to care of critically ill children in these settings (116) .',\n",
       " 'The quality of care approach should include safety, effectiveness, and care delivery in ways that respect the dignity of individuals in the context of their own \"local moral worlds\" (117) .',\n",
       " 'When people receive care that is unsafe or ineffective, or they are not treated with respect, it is little surprise they will avoid further care (118) .',\n",
       " 'Healthcare Systems.',\n",
       " 'While some might see tradeoffs between interventions to stem current epidemics and investments in health systems for the future, these two notions can coexist.',\n",
       " 'Indeed, building systems that provide high-quality care in crisis can be used to provide effective critical care disease management and chronic care once the epidemic has subsided.',\n",
       " \"The HIV epidemic is an important example of how quality, system-based interventions in times of disease outbreak can serve a country's healthcare system as a whole.\",\n",
       " 'Healthcare Systems.',\n",
       " \"For example, Rwanda's AIDS program was characterized not only by efforts to integrate prevention and control, but also by attention to concomitant health problems, such as tuberculosis and malnutrition, to strengthen the healthcare system as a whole.\",\n",
       " 'High-level political commitment to equity and service delivery, a clear plan for action, and harnessing funds has been very successful.',\n",
       " \"The country's ownership of health care spending has facilitated this process.\",\n",
       " 'Evidence-based policy making through linkage of research to service and training has helped promote accountability and improve quality of care in Rwanda (119) .',\n",
       " 'These interventions enabled a 70% reduction in the under-5-year mortality rate between 2000 and 2011 (119) .',\n",
       " 'Research Strategies for Clinical evidence.',\n",
       " 'A major challenge in improving critical care in resource-limited settings as discussed earlier is the lack of evidence to both quantify the burden of disease as well as support interventions for a particular disease.',\n",
       " 'The majority of research studies, in particular in critical care, are conducted in resource-rich settings, targeting the most common and most severe diseases in these settings.',\n",
       " 'The protocol for the Global Burden of Diseases, Injuries, and Risk Factors study in 2013 identified regional and country-specific differences in disease burden (3) making the blind application of effective critical care interventions from resource-rich settings not appropriate while also creating additional financial strain on limited resources.',\n",
       " 'This creates a vicious cycle in which the limitation of resources prevents design and implementation of research initiatives needed to identify which resources are most needed.',\n",
       " 'Research Strategies for Clinical evidence.',\n",
       " 'The first step in improving outcomes in critical illness is to understand local and regional epidemiology of disease, so that institutions can prioritize future interventions (55) .',\n",
       " 'This research requires resources, such as accurate medical record keeping, disease-specific laboratory diagnostics, personnel to gather and analyze data, and local providers to identify potential research subjects.',\n",
       " 'A number of trauma registries in low-and middleincome countries serve as examples for tracking the epidemiology of a disease (120) (121) (122) (123) , and their ability to contribute to a reduction in mortality has been established (122) .',\n",
       " 'Tracking of critical illness proves more challenging because most diagnoses rely on laboratory confirmation rather than clinical history alone (124) (125) (126) .',\n",
       " 'Research Strategies for Clinical evidence.',\n",
       " 'Once the local and regional epidemiology of critical illness is understood, targeted interventions and their evaluation represent the next stage.',\n",
       " 'The efficacy of a single intervention depends upon the local environment and resource availability.',\n",
       " 'While relatively low-resource interventions, such as pulse oximetry, have been effective in reducing mortality in resource-limited settings (64), higher resource interventions, such as CPAP, have improved clinical status but not decreased mortality (127) .',\n",
       " 'A potential explanation for this discrepancy is that high-resource interventions concentrate available resources on the highest acuity patients, leaving those with milder illness with inadequate monitoring.',\n",
       " 'Research Strategies for Clinical evidence.',\n",
       " 'Once effective interventions have been identified, efforts are necessary to implement them region-or country-wide.',\n",
       " 'Previously mentioned incorporation of HIV care into outpatient primary care clinics (128) and utilization of various clinical treatment guidelines in resource-limited settings represent an opportunity for improved outcomes on a larger scale.',\n",
       " 'Research Strategies for Clinical evidence.',\n",
       " 'Once implemented, ongoing monitoring in the form of research is needed to ensure that the interventions are appropriate.',\n",
       " 'Conducting research in resource-limited countries where the population of individuals affected is vulnerable and there is a heightened possibility of exploitation of individuals and communities should comply with important ethical principles (84) .',\n",
       " 'These may include use of culturally appropriate forms of informed consent and a local IRB, regulated use of therapies as part of clinical trials to determine effectiveness and validity, avoidance of compassionate use, prevention of exploitation of vulnerable populations, and collaborative partnerships with local communities and stakeholders (84) .',\n",
       " 'Research Strategies for Clinical evidence.',\n",
       " 'In times of disease outbreaks as in the Ebola epidemic, lack of prior approval for research prevents the study of promising interventions, such as vaccines, monoclonal antibodies, and convalescent plasma therapies (129) .',\n",
       " 'A potential solution and model for the carefully planned study of future infectious disease outbreaks in times of disaster has been offered by the MSF research ethics committee via pre-approved generic research protocols that are then further defined and approved by the appropriate national authorities once an outbreak occurs (130) .',\n",
       " 'Research Agenda for Critical Care in Resource-Poor Settings.',\n",
       " 'Published data on pediatric critical care research from resourcelimited countries remains sparse, yet is much needed (18, 73) .',\n",
       " 'Reasons for this gap in evidence likely include lack of funding, local critical care providers and researchers, academic mentorship and infrastructure to perform research, and/or barriers to turn available data into publishable research.',\n",
       " 'The limited existing evidence hinders effective and efficient care and advocacy for resource-limited settings.',\n",
       " 'Research Agenda for Critical Care in Resource-Poor Settings.',\n",
       " 'The agenda for critical care research in resource-limited settings should include more evidence on epidemiology and outcomes.',\n",
       " 'A more accurate estimate of the potential lives saved through pediatric critical care interventions would justify its role in healthcare systems globally (19) .',\n",
       " 'Data on critical care capacity, and access to both critical care resources and health care professionals, are essential for health system planning, but generally lacking.',\n",
       " 'Efforts should be made to adjust critical care guidelines from high-income countries to resource-limited settings.',\n",
       " 'Costeffectiveness analyses of current and proposed critical care practices need to be emphasized (73) .',\n",
       " 'Efficacy must be measured and validated for critical care interventions, with limited resources targeted to those practices that save lives, time, and resources.',\n",
       " 'Currently, available critical care mortality prediction tools and triage scoring systems require revalidation in region-specific contexts (131, 132) and low-cost critical care technology is much needed to support critical care in resource-limited settings.',\n",
       " 'CONCLUSiON.',\n",
       " 'We affirm that the concept of global justice for all persons needs to be applied to the shortage of pediatric and adult critical care services across the globe.',\n",
       " 'At the core, there is a need to remediate inequalities of access to healthcare as a fundamental human right (133) .',\n",
       " 'The injustice of the disparity in healthcare requires tireless patient advocacy for equity of care and increased resources (73) .',\n",
       " 'We no longer live in silos; instead, we live in an interconnected world where communications, collaboration, trade, finance, and pollution are all shared (84) .',\n",
       " 'The recent Ebola epidemic served as a harsh reminder that in order to value all human life equally, there is an urgent need to bridge resource-rich and resourcelimited worlds and build effective, long-lasting partnerships across borders (83) .',\n",
       " 'CONCLUSiON.',\n",
       " 'Critical care has often been deemed inappropriate and of lower priority than primary care efforts and, thus, has additional challenges to overcome in resource-limited settings.',\n",
       " 'However, the lack of prioritization is not justified as discussed above (73) .',\n",
       " 'Critics indict clinical technologies and label them as failed strategies, likely due to lack of research in the field, which devalues clinical intervention and diverts the attention from the value of critical care medicine to the overall health of the population (134) .',\n",
       " 'CONCLUSiON.',\n",
       " 'There is no doubt that critical care and public health overlap.',\n",
       " 'An Ebola virus outbreak among a mobile population who carries it to densely populated areas without adequate critical care resources and systems to contain further spread is a huge public health issue (135) .',\n",
       " 'The lack of critical care resources in the center of the epidemic and the inability to increase available resources acutely has contributed to the amplification of disease burden, increasing stress on an already deficient public health system.',\n",
       " 'CONCLUSiON.',\n",
       " 'We argue for a focus on basic pediatric critical care principals with locally appropriate adaptations in collaboration with ministries of health and community members.',\n",
       " 'A concentration on international partnerships, educational initiatives, and research strategies will only help to enhance the specialty of pediatric critical care.',\n",
       " 'Building capacity and evaluating efficacy of critical care interventions in resource-limited settings has the potential to greatly improve the overall outcome of critically ill children by supporting interventions at every level of patient care.',\n",
       " 'The strategies outlined move us toward delivery of an adequate standard of critical care for all children globally and provide an opportunity to dramatically decrease the mortality of children in resourcelimited settings.',\n",
       " 'AUTHOR CONTRiBUTiONS.',\n",
       " 'ELT, primary author, wrote the bulk of the sections and edits.',\n",
       " 'KRN wrote sections of the article and participated in editing the paper.',\n",
       " 'SMJ wrote sections of the article and participated in editing the paper.',\n",
       " 'AA wrote sections, participated in editing, and wrote the bibliography.',\n",
       " 'NM wrote sections of the paper and participated in editing and is responsible for the overall content.',\n",
       " 'Thomas Brogan, MD was acknowledged for reading the article and providing important feedback.']"
      ]
     },
     "execution_count": 15,
     "metadata": {
      "tags": []
     },
     "output_type": "execute_result"
    }
   ],
   "source": [
    "art.text"
   ]
  },
  {
   "cell_type": "markdown",
   "metadata": {
    "id": "0Iwy2adteRVC"
   },
   "source": [
    "# Load the pre-trained models"
   ]
  },
  {
   "cell_type": "code",
   "execution_count": 16,
   "metadata": {
    "id": "OP2wfBpVBF_E"
   },
   "outputs": [],
   "source": [
    "embedder1 = SentenceTransformer('stsb-distilbert-base')"
   ]
  },
  {
   "cell_type": "code",
   "execution_count": 17,
   "metadata": {
    "id": "_cJ2DzDO_ZMp"
   },
   "outputs": [],
   "source": [
    "embedder2 = SentenceTransformer('stsb-roberta-base')"
   ]
  },
  {
   "cell_type": "markdown",
   "metadata": {
    "id": "KheTe2QXQfac"
   },
   "source": [
    "## Define Look-up dictionaries to avoid recomputing some embeddings"
   ]
  },
  {
   "cell_type": "markdown",
   "metadata": {
    "id": "Z4HD7x1o_Y2s"
   },
   "source": [
    "Get the embeddings of the summaries of all the articles, for each model"
   ]
  },
  {
   "cell_type": "code",
   "execution_count": 18,
   "metadata": {
    "id": "H2qD6Ilm_eou"
   },
   "outputs": [],
   "source": [
    "# should take ~ 15 mins on GPU for the whole Dataset\n",
    "index_to_summary_embeddings1 = {}\n",
    "for idx, article in enumerate(articles):\n",
    "  index_to_summary_embeddings1[idx] = embedder1.encode(article.summary, convert_to_tensor=True)"
   ]
  },
  {
   "cell_type": "code",
   "execution_count": 19,
   "metadata": {
    "id": "I4TsLkF6_eek"
   },
   "outputs": [],
   "source": [
    "# should take ~ 27 mins on GPU for the whole Dataset\n",
    "index_to_summary_embeddings2 = {}\n",
    "for idx, article in enumerate(articles):\n",
    "  index_to_summary_embeddings2[idx] = embedder2.encode(article.summary, convert_to_tensor=True)"
   ]
  },
  {
   "cell_type": "markdown",
   "metadata": {
    "id": "QGqlqlcZQSoL"
   },
   "source": [
    "Also define dictionaries that will be used to store the embeddings of the whole articles, to avoid computing them twice"
   ]
  },
  {
   "cell_type": "code",
   "execution_count": 20,
   "metadata": {
    "id": "UNAtuBxSQm2I"
   },
   "outputs": [],
   "source": [
    "index_to_article_embedding1 = {}\n",
    "index_to_article_embedding2 = {}"
   ]
  },
  {
   "cell_type": "markdown",
   "metadata": {
    "id": "PAc6TruU_qb2"
   },
   "source": [
    "# Predict"
   ]
  },
  {
   "cell_type": "code",
   "execution_count": 21,
   "metadata": {
    "id": "9w5IMYP1VD3N"
   },
   "outputs": [],
   "source": [
    "def max_similarity(corpus_embeddings, query_embedding, k=1):\n",
    "  \"\"\" returns the indices and values (cosine similarity) of the sentences from the corpus with the\n",
    "      top k cosine similarities with the query embedding \"\"\"\n",
    "  cos_scores = util.pytorch_cos_sim(query_embedding, corpus_embeddings)[0].cpu()\n",
    "  return torch.topk(cos_scores, k=k)"
   ]
  },
  {
   "cell_type": "code",
   "execution_count": 22,
   "metadata": {
    "id": "gEgfC_WVCXkC"
   },
   "outputs": [],
   "source": [
    "def relative_articles(articles, index_to_summary_embeddings, query_embedding, threshold=0.5):\n",
    "  \"\"\" returns a list with the indices of the articles, for which a sentence in its summary with\n",
    "      cosine similarity > threshold, exists \"\"\"\n",
    "  return [idx for idx, article in enumerate(articles)\n",
    "          if max_similarity(index_to_summary_embeddings[idx], query_embedding)[0][0] > threshold]"
   ]
  },
  {
   "cell_type": "code",
   "execution_count": 23,
   "metadata": {
    "id": "bBKfsGWMpeLx"
   },
   "outputs": [],
   "source": [
    "def get_passage(corpus, best_sentence_idx, index_in_section, paragraph, embedder):\n",
    "  \"\"\" given a sentence inside the corpus, it returns a string containing all the similar sentences\n",
    "      that belong in the same section of the corpus \"\"\"\n",
    "  best_sentence_embedding = embedder.encode([corpus[best_sentence_idx]], convert_to_tensor=True)\n",
    "  previous_sentence_is_relevant = True\n",
    "  next_sentence_is_relevant = True\n",
    "  passage = corpus[best_sentence_idx]\n",
    "  offset = 1\n",
    "\n",
    "  # while either the previous sentence of the next are relevant, keep appending them in the passage\n",
    "  while previous_sentence_is_relevant is True or next_sentence_is_relevant is True:\n",
    "    \n",
    "    if index_in_section - offset < 0:\n",
    "      previous_sentence_is_relevant = False\n",
    "    elif index_in_section + offset >= len(paragraph):\n",
    "      next_sentence_is_relevant = False\n",
    "\n",
    "    if previous_sentence_is_relevant is True:\n",
    "      previous_sentence = corpus[best_sentence_idx - offset]\n",
    "      previous_sentence_embedding = embedder.encode([previous_sentence], convert_to_tensor=True)\n",
    "      cosine_similarity = util.pytorch_cos_sim(best_sentence_embedding, previous_sentence_embedding)[0][0].cpu()\n",
    "      if cosine_similarity < 0.5:\n",
    "        previous_sentence_is_relevant = False\n",
    "      else:\n",
    "        passage = ' '.join([previous_sentence, passage])\n",
    "\n",
    "    if next_sentence_is_relevant is True:\n",
    "      next_sentence = corpus[best_sentence_idx + offset]\n",
    "      next_sentence_embedding = embedder.encode([next_sentence], convert_to_tensor=True)\n",
    "      cosine_similarity = util.pytorch_cos_sim(best_sentence_embedding, next_sentence_embedding)[0][0].cpu()\n",
    "      if cosine_similarity < 0.5:\n",
    "        next_sentence_is_relevant = False\n",
    "      else:\n",
    "        passage = ' '.join([passage, next_sentence])\n",
    "\n",
    "    offset += 1\n",
    "\n",
    "  return passage"
   ]
  },
  {
   "cell_type": "code",
   "execution_count": 24,
   "metadata": {
    "id": "LSzq37mHLCA7"
   },
   "outputs": [],
   "source": [
    "# deprecated\n",
    "def threshold_is_ok(number_of_articles_included, min_articles=5, max_articles=150):\n",
    "  \"\"\" returns a boolean that determines whether the number of articles that did not get filtered\n",
    "      is acceptable \"\"\"\n",
    "  return min_articles <= number_of_articles_included <= max_articles\n",
    "\n",
    "# deprecated\n",
    "def fix_threshold(number_of_articles_included, threshold, min_articles=5, max_articles=150,\n",
    "                  decrease_step=0.01, increase_step=0.05):\n",
    "  \"\"\" computes a new value for a threshold, depending on how many articles were found relevant\n",
    "      using the previous threshold \"\"\"\n",
    "  if number_of_articles_included < min_articles:\n",
    "    return threshold + increase_step\n",
    "  elif number_of_articles_included > max_articles:\n",
    "    return threshold - decrease_step"
   ]
  },
  {
   "cell_type": "code",
   "execution_count": 25,
   "metadata": {
    "id": "wT0NU2p9XIWX"
   },
   "outputs": [],
   "source": [
    "def find_best_article(articles, index_to_summary_embeddings, index_to_article_embeddings, query, embedder, threshold=0.5):\n",
    "  \"\"\" returns the index (in the articles list) of the article that best fits the given query \"\"\"\n",
    "  query_embedding = embedder.encode(query, convert_to_tensor=True)\n",
    "  articles_to_explore = relative_articles(articles, index_to_summary_embeddings, query_embedding, threshold=threshold)\n",
    "  while len(articles_to_explore) == 0:\n",
    "    threshold -= 0.05\n",
    "    articles_to_explore = relative_articles(articles, index_to_summary_embeddings, query_embedding, threshold=threshold)\n",
    "  \n",
    "  best_cos_sim = 0.0\n",
    "  best_article_idx = None\n",
    "  best_sentence_idx = None\n",
    "\n",
    "  # print(\"For query '{}', found {} articles to explore.\\n\".format(query, len(articles_to_explore)))\n",
    "  # print([articles[article].id for article in articles_to_explore])\n",
    "\n",
    "  for idx in articles_to_explore:\n",
    "    article = articles[idx]\n",
    "\n",
    "    if idx not in index_to_article_embeddings:\n",
    "      corpus = article.text\n",
    "      corpus_embeddings = embedder.encode(corpus, convert_to_tensor=True)\n",
    "      index_to_article_embeddings[idx] = corpus_embeddings\n",
    "    else:\n",
    "      corpus_embeddings = index_to_article_embeddings[idx]\n",
    "\n",
    "    top_sentences_and_scores = max_similarity(corpus_embeddings, query_embedding)\n",
    "    score = top_sentences_and_scores[0][0]\n",
    "\n",
    "    if score > best_cos_sim:\n",
    "      best_cos_sim = score\n",
    "      best_article_idx = idx\n",
    "      best_sentence_idx = top_sentences_and_scores[1][0]\n",
    "\n",
    "  best_article = articles[best_article_idx]\n",
    "  corpus = best_article.text\n",
    "  index_in_section, section = best_article.get_section_from_index(best_sentence_idx)\n",
    "  paragraph = [section[0], *section[1]]\n",
    "  passage = get_passage(corpus, best_sentence_idx, index_in_section, paragraph, embedder)\n",
    "\n",
    "  return best_article_idx, passage"
   ]
  },
  {
   "cell_type": "markdown",
   "metadata": {
    "id": "vCryRhEJaq69"
   },
   "source": [
    "These queries and their respective answers are written in the file queries.txt"
   ]
  },
  {
   "cell_type": "code",
   "execution_count": 26,
   "metadata": {
    "id": "hpliu1cpauqX"
   },
   "outputs": [],
   "source": [
    "queries = ['How is the diagnosis of pulmonary tuberculosis made in TB clinics and hospitals?',\n",
    "           'Was the Porcine epidemic diarrhea virus first detected in Slovenia?',\n",
    "           'Is handwashing the most important measure against infectious diseases?',\n",
    "           'How was the importance of clathrin-mediated endocytosis for MHV confirmed?',\n",
    "           'Which alternatives do we have for conventional chemotherapy?',\n",
    "           'Is there a drug to treat the EV71 infection?',\n",
    "           'Which is common cause for diarrhea and septicemia in calves?',\n",
    "           'Which scanning technique was used to confirm hypotheses regarding the MAb-1G10 epitope structure?',\n",
    "           'How can host translational inhibition be achieved?',\n",
    "           'What is Multiple sclerosis?']"
   ]
  },
  {
   "cell_type": "markdown",
   "metadata": {
    "id": "8KXwJLeBBVVA"
   },
   "source": [
    "Define a threshold that will be use to filter out articles where their summary has an a cosine similarity with the query, lower than the threshold. The bigger the threshold, the more articles get filtered out. This has 2 effects:\n",
    "- Greatly improves running time\n",
    "- Increased probability of missing out the best article as it's summary might not be similar to the query, yet its body text may have the correct passage"
   ]
  },
  {
   "cell_type": "code",
   "execution_count": 27,
   "metadata": {
    "id": "gY4VBuyqBhK_"
   },
   "outputs": [],
   "source": [
    "threshold = 0.65"
   ]
  },
  {
   "cell_type": "markdown",
   "metadata": {
    "id": "JDRsauxlojLQ"
   },
   "source": [
    "## Find the best articles for them"
   ]
  },
  {
   "cell_type": "code",
   "execution_count": 28,
   "metadata": {
    "colab": {
     "base_uri": "https://localhost:8080/"
    },
    "id": "DqinmykXO3By",
    "outputId": "b05635cb-0373-4277-de42-e07f741b3584"
   },
   "outputs": [
    {
     "name": "stdout",
     "output_type": "stream",
     "text": [
      "--------------------------------------------------------------------------------------------------------------------------------------------------------------------------------------------------------\n",
      "For Query 1: 'How is the diagnosis of pulmonary tuberculosis made in TB clinics and hospitals?', the most relevant article is:\n",
      "\n",
      "ID: 0043d044273b8eb1585d3a66061e9b4e03edc062,\tTitle: Evaluation of the tuberculosis programme in Ningxia Hui Autonomous region, the People's Republic of China: a retrospective case study\n",
      "\n",
      "The Passage is:\n",
      "Diagnosis of pulmonary TB in hospitals and TB clinics is made on the basis of clinical examination; chest radiography and sputum smear microscopy and/or sputum culture. Following diagnosis, patients enter the DOTS program which prescribes short-course chemotherapy (SCC) comprising 2 months of isoniazid (H), rifampicin (R), pyrazinamide (Z) plus streptomycin (S) or ethambutol (E) followed by 4 months of H and R. This is the WHO recommended regimen for treating new cases of smear-positive pulmonary TB or smear-negative pulmonary TB with substantial radiographic evidence of active disease .\n",
      "\n",
      "Found the answer in 28.35 seconds\n",
      "--------------------------------------------------------------------------------------------------------------------------------------------------------------------------------------------------------\n",
      "\n",
      "\n",
      "--------------------------------------------------------------------------------------------------------------------------------------------------------------------------------------------------------\n",
      "For Query 2: 'Was the Porcine epidemic diarrhea virus first detected in Slovenia?', the most relevant article is:\n",
      "\n",
      "ID: 105268027d44ab275991e358674462f77223e882,\tTitle: Complete Genome Sequence of the Porcine Epidemic Diarrhea Virus Strain SLO/JH-11/2015\n",
      "\n",
      "The Passage is:\n",
      "Porcine epidemic diarrhea virus (PEDV) was detected for the first time in Slovenia in January 2015.\n",
      "\n",
      "Found the answer in 12.11 seconds\n",
      "--------------------------------------------------------------------------------------------------------------------------------------------------------------------------------------------------------\n",
      "\n",
      "\n",
      "--------------------------------------------------------------------------------------------------------------------------------------------------------------------------------------------------------\n",
      "For Query 3: 'Is handwashing the most important measure against infectious diseases?', the most relevant article is:\n",
      "\n",
      "ID: 1edab5890fbff22ad353739d3d1e80a86d482820,\tTitle: Open Access Handwashing with soap and national handwashing projects in Korea: focus on the National Handwashing Survey, 2006-2014\n",
      "\n",
      "The Passage is:\n",
      "Handwashing is recommended as the single most ef-fective method to prevent the spread of infectious diseases.\n",
      "\n",
      "Found the answer in 9.65 seconds\n",
      "--------------------------------------------------------------------------------------------------------------------------------------------------------------------------------------------------------\n",
      "\n",
      "\n",
      "--------------------------------------------------------------------------------------------------------------------------------------------------------------------------------------------------------\n",
      "For Query 4: 'How was the importance of clathrin-mediated endocytosis for MHV confirmed?', the most relevant article is:\n",
      "\n",
      "ID: 3339f4bb346bfa3070ae5fc7dc745ef051535b0e,\tTitle: Coronavirus Cell Entry Occurs through the Endo-/ Lysosomal Pathway in a Proteolysis-Dependent Manner\n",
      "\n",
      "The Passage is:\n",
      "Endocytosis-affecting agents indicate clathrin-mediated endocytosis and endosome maturation to be important in MHV infection.\n",
      "\n",
      "Found the answer in 54.94 seconds\n",
      "--------------------------------------------------------------------------------------------------------------------------------------------------------------------------------------------------------\n",
      "\n",
      "\n",
      "--------------------------------------------------------------------------------------------------------------------------------------------------------------------------------------------------------\n",
      "For Query 5: 'Which alternatives do we have for conventional chemotherapy?', the most relevant article is:\n",
      "\n",
      "ID: c98f64c50d8a1c2d378db2e8da009c2dbc7936b1,\tTitle: Schistosomiasis control and the health system in P.R. China\n",
      "\n",
      "The Passage is:\n",
      "Different chemotherapy strategies were carried out in different endemic areas: mass chemotherapy was used for the people from endemic areas with a high prevalence and with a history of water contact.\n",
      "\n",
      "Found the answer in 7.18 seconds\n",
      "--------------------------------------------------------------------------------------------------------------------------------------------------------------------------------------------------------\n",
      "\n",
      "\n",
      "--------------------------------------------------------------------------------------------------------------------------------------------------------------------------------------------------------\n",
      "For Query 6: 'Is there a drug to treat the EV71 infection?', the most relevant article is:\n",
      "\n",
      "ID: 5a63d131a9fdbdb837c56458c72d6e29942c1fb9,\tTitle: Cytokine Immunopathogenesis of Enterovirus 71 Brain Stem Encephalitis\n",
      "\n",
      "The Passage is:\n",
      "Milrinone therapy may provide a useful therapeutic approach for treating life-threatening EV71 infections.\n",
      "\n",
      "Found the answer in 10.39 seconds\n",
      "--------------------------------------------------------------------------------------------------------------------------------------------------------------------------------------------------------\n",
      "\n",
      "\n",
      "--------------------------------------------------------------------------------------------------------------------------------------------------------------------------------------------------------\n",
      "For Query 7: 'Which is common cause for diarrhea and septicemia in calves?', the most relevant article is:\n",
      "\n",
      "ID: 4d2c66f3c30a2fd8f14f75c3f5405e2ba61b9345,\tTitle: Giardiosis and other enteropathogenic infections: a study on diarrhoeic calves in Southern Germany\n",
      "\n",
      "The Passage is:\n",
      "as cause of diarrhoea in calves and to production loss in asymptomatic calves .\n",
      "\n",
      "Found the answer in 10.96 seconds\n",
      "--------------------------------------------------------------------------------------------------------------------------------------------------------------------------------------------------------\n",
      "\n",
      "\n",
      "--------------------------------------------------------------------------------------------------------------------------------------------------------------------------------------------------------\n",
      "For Query 8: 'Which scanning technique was used to confirm hypotheses regarding the MAb-1G10 epitope structure?', the most relevant article is:\n",
      "\n",
      "ID: bf7d69e6d9d85c3870025ee9e51632ca44283441,\tTitle: Epitope mapping by random peptide phage display reveals essential residues for vaccinia extracellular enveloped virion spread\n",
      "\n",
      "The Passage is:\n",
      "Confirmation of critical MAb-1G10 residues by alanine scanning. An alanine scanning technique was used to determine if either of these hypotheses regarding the MAb-1G10 epitope structure might be correct.\n",
      "\n",
      "Found the answer in 7.23 seconds\n",
      "--------------------------------------------------------------------------------------------------------------------------------------------------------------------------------------------------------\n",
      "\n",
      "\n",
      "--------------------------------------------------------------------------------------------------------------------------------------------------------------------------------------------------------\n",
      "For Query 9: 'How can host translational inhibition be achieved?', the most relevant article is:\n",
      "\n",
      "ID: 1d572b31e29c16909825aa14dc9e462020d95303,\tTitle: Camouflage and interception: how pathogens evade detection by intracellular nucleic acid sensors\n",
      "\n",
      "The Passage is:\n",
      "Degradation and inhibition of host signalling factors.\n",
      "\n",
      "Found the answer in 31.46 seconds\n",
      "--------------------------------------------------------------------------------------------------------------------------------------------------------------------------------------------------------\n",
      "\n",
      "\n",
      "--------------------------------------------------------------------------------------------------------------------------------------------------------------------------------------------------------\n",
      "For Query 10: 'What is Multiple sclerosis?', the most relevant article is:\n",
      "\n",
      "ID: d44571bd848bc813e4cdd2fe8c36b922433ec4da,\tTitle: infection as an environmental trigger of multiple sclerosis disease exacerbation\n",
      "\n",
      "The Passage is:\n",
      "MULTiPLe SCLeROSiS. Multiple sclerosis (MS) is a relatively prominent autoimmune disease identified as the number one cause of non-traumatic adult onset neurological disability (1) .\n",
      "\n",
      "Found the answer in 5.23 seconds\n",
      "--------------------------------------------------------------------------------------------------------------------------------------------------------------------------------------------------------\n",
      "\n",
      "\n",
      "\n",
      "\n",
      "\n",
      "--------------------------------------------------------------------------------------------------------------------------------------------------------------------------------------------------------\n",
      "\n",
      "Average time per Query: 17.75\n",
      "\n",
      "--------------------------------------------------------------------------------------------------------------------------------------------------------------------------------------------------------\n"
     ]
    }
   ],
   "source": [
    "total_time = 0.0\n",
    "for idx, query in enumerate(queries):\n",
    "  \n",
    "  start_time = time.time()\n",
    "  best_article_index, passage = find_best_article(articles, index_to_summary_embeddings1, index_to_article_embedding1, query, embedder1, threshold=threshold)\n",
    "  elapsed_time = time.time() - start_time\n",
    "  total_time += elapsed_time\n",
    "  best_article = articles[best_article_index]\n",
    "\n",
    "  print('-' * 200)\n",
    "  print(\"For Query {}: '{}', the most relevant article is:\\n\".format(idx + 1, query))\n",
    "  print('ID: {},\\tTitle: {}\\n'.format(best_article.id, best_article.title))\n",
    "  print('The Passage is:')\n",
    "  print(passage)\n",
    "  print('\\nFound the answer in %.2f seconds' % elapsed_time)\n",
    "  print('-' * 200)\n",
    "  print('\\n')\n",
    "\n",
    "print('\\n\\n')\n",
    "print('-' * 200)\n",
    "print('\\nAverage time per Query: {:.2f}\\n'.format(total_time / len(queries)))\n",
    "print('-' * 200)"
   ]
  },
  {
   "cell_type": "code",
   "execution_count": 29,
   "metadata": {
    "colab": {
     "base_uri": "https://localhost:8080/"
    },
    "id": "hktQxDrHoir7",
    "outputId": "a0008f9a-d371-4cce-8350-e2105cc62239"
   },
   "outputs": [
    {
     "name": "stdout",
     "output_type": "stream",
     "text": [
      "--------------------------------------------------------------------------------------------------------------------------------------------------------------------------------------------------------\n",
      "For Query 1: 'How is the diagnosis of pulmonary tuberculosis made in TB clinics and hospitals?', the most relevant article is:\n",
      "\n",
      "ID: 0043d044273b8eb1585d3a66061e9b4e03edc062,\tTitle: Evaluation of the tuberculosis programme in Ningxia Hui Autonomous region, the People's Republic of China: a retrospective case study\n",
      "\n",
      "The Passage is:\n",
      "Diagnosis of pulmonary TB in hospitals and TB clinics is made on the basis of clinical examination; chest radiography and sputum smear microscopy and/or sputum culture. Following diagnosis, patients enter the DOTS program which prescribes short-course chemotherapy (SCC) comprising 2 months of isoniazid (H), rifampicin (R), pyrazinamide (Z) plus streptomycin (S) or ethambutol (E) followed by 4 months of H and R. This is the WHO recommended regimen for treating new cases of smear-positive pulmonary TB or smear-negative pulmonary TB with substantial radiographic evidence of active disease .\n",
      "\n",
      "Found the answer in 47.52 seconds\n",
      "--------------------------------------------------------------------------------------------------------------------------------------------------------------------------------------------------------\n",
      "\n",
      "\n",
      "--------------------------------------------------------------------------------------------------------------------------------------------------------------------------------------------------------\n",
      "For Query 2: 'Was the Porcine epidemic diarrhea virus first detected in Slovenia?', the most relevant article is:\n",
      "\n",
      "ID: 105268027d44ab275991e358674462f77223e882,\tTitle: Complete Genome Sequence of the Porcine Epidemic Diarrhea Virus Strain SLO/JH-11/2015\n",
      "\n",
      "The Passage is:\n",
      "Porcine epidemic diarrhea virus (PEDV) was detected for the first time in Slovenia in January 2015. The complete genome sequence of PEDV strain SLO/JH-11/2015, obtained from a fecal sample of a fattening pig with diarrhea in September 2015, is closely related to recently detected European strains.\n",
      "\n",
      "Found the answer in 2.29 seconds\n",
      "--------------------------------------------------------------------------------------------------------------------------------------------------------------------------------------------------------\n",
      "\n",
      "\n",
      "--------------------------------------------------------------------------------------------------------------------------------------------------------------------------------------------------------\n",
      "For Query 3: 'Is handwashing the most important measure against infectious diseases?', the most relevant article is:\n",
      "\n",
      "ID: 1edab5890fbff22ad353739d3d1e80a86d482820,\tTitle: Open Access Handwashing with soap and national handwashing projects in Korea: focus on the National Handwashing Survey, 2006-2014\n",
      "\n",
      "The Passage is:\n",
      "Handwashing is the most fundamental way to prevent the spread of infectious diseases. Correct handwashing can prevent 50 to 70% of water-infections and foodborne-infections.\n",
      "\n",
      "Found the answer in 25.42 seconds\n",
      "--------------------------------------------------------------------------------------------------------------------------------------------------------------------------------------------------------\n",
      "\n",
      "\n",
      "--------------------------------------------------------------------------------------------------------------------------------------------------------------------------------------------------------\n",
      "For Query 4: 'How was the importance of clathrin-mediated endocytosis for MHV confirmed?', the most relevant article is:\n",
      "\n",
      "ID: 3339f4bb346bfa3070ae5fc7dc745ef051535b0e,\tTitle: Coronavirus Cell Entry Occurs through the Endo-/ Lysosomal Pathway in a Proteolysis-Dependent Manner\n",
      "\n",
      "The Passage is:\n",
      "Clathrin-mediated endocytosis and late endosomal factors are required for MHV fusion. The importance of clathrin-mediated endocytosis and endosome maturation for MHV fusion was confirmed by analysis of endocytosis-affecting agents using the fusion assay.\n",
      "\n",
      "Found the answer in 55.34 seconds\n",
      "--------------------------------------------------------------------------------------------------------------------------------------------------------------------------------------------------------\n",
      "\n",
      "\n",
      "--------------------------------------------------------------------------------------------------------------------------------------------------------------------------------------------------------\n",
      "For Query 5: 'Which alternatives do we have for conventional chemotherapy?', the most relevant article is:\n",
      "\n",
      "ID: 63a0d9767212d4316c91660dc4eedc8cb3fe527f,\tTitle: Dihydroberberine exhibits synergistic effects with sunitinib on NSCLC NCI-H460 cells by repressing MAP kinase pathways and inflammatory mediators\n",
      "\n",
      "The Passage is:\n",
      "Highly effective and attenuated dose schedules are good regimens for drug research and development. Combination chemotherapy is a good strategy in cancer therapy.\n",
      "\n",
      "Found the answer in 5.79 seconds\n",
      "--------------------------------------------------------------------------------------------------------------------------------------------------------------------------------------------------------\n",
      "\n",
      "\n",
      "--------------------------------------------------------------------------------------------------------------------------------------------------------------------------------------------------------\n",
      "For Query 6: 'Is there a drug to treat the EV71 infection?', the most relevant article is:\n",
      "\n",
      "ID: e447d139f1d046120a293f1219944e82c77bc829,\tTitle: Oblongifolin M, an active compound isolated from a Chinese medical herb Garcinia oblongifolia, potently inhibits enterovirus 71 reproduction through downregulation of ERp57\n",
      "\n",
      "The Passage is:\n",
      "There is no effective drug to treat EV71 infection yet.\n",
      "\n",
      "Found the answer in 29.16 seconds\n",
      "--------------------------------------------------------------------------------------------------------------------------------------------------------------------------------------------------------\n",
      "\n",
      "\n",
      "--------------------------------------------------------------------------------------------------------------------------------------------------------------------------------------------------------\n",
      "For Query 7: 'Which is common cause for diarrhea and septicemia in calves?', the most relevant article is:\n",
      "\n",
      "ID: b7a6a987030c52cc7ecdf49c3933b6cfda488210,\tTitle: A systematic review and meta-analysis of the epidemiology of pathogenic Escherichia coli of calves and the role of calves as reservoirs for human pathogenic E. coli\n",
      "\n",
      "The Passage is:\n",
      "Escherichia coli bacteria are the most common causes of diarrhea and septicemia in calves. Moreover, calves form a major reservoir for transmission of pathogenic E. coli to humans.\n",
      "\n",
      "Found the answer in 52.88 seconds\n",
      "--------------------------------------------------------------------------------------------------------------------------------------------------------------------------------------------------------\n",
      "\n",
      "\n",
      "--------------------------------------------------------------------------------------------------------------------------------------------------------------------------------------------------------\n",
      "For Query 8: 'Which scanning technique was used to confirm hypotheses regarding the MAb-1G10 epitope structure?', the most relevant article is:\n",
      "\n",
      "ID: 76d39ac4634db5a0fcc8cddbefd965c463c0ace0,\tTitle: Decreased Pattern Recognition Receptor Signaling, Interferon-Signature, and Bactericidal/Permeability- Increasing Protein Gene Expression in Cord Blood of Term Low Birth Weight Human Newborns\n",
      "\n",
      "The Passage is:\n",
      "RNA labeling and Affymetrix gene chip expression probe array hybridization.\n",
      "\n",
      "Found the answer in 5.02 seconds\n",
      "--------------------------------------------------------------------------------------------------------------------------------------------------------------------------------------------------------\n",
      "\n",
      "\n",
      "--------------------------------------------------------------------------------------------------------------------------------------------------------------------------------------------------------\n",
      "For Query 9: 'How can host translational inhibition be achieved?', the most relevant article is:\n",
      "\n",
      "ID: 2e32842d3ebcee3ffaf4b6822dbac0f41f82130a,\tTitle: Associated Virus Vectors\n",
      "\n",
      "The Passage is:\n",
      "Further studies demonstrated that scAAV1 and scAAV6 also induce cellular UPR in vitro, with AAV1 vectors activating the PERK pathway (3 fold) while AAV6 vectors induced a significant increase on all the three major UPR pathways [6-16 fold]. These data suggest that the type and strength of UPR activation is dependent on the viral capsid. We then examined if transient inhibition of UPR pathways by RNA interference has an effect on AAV transduction. siRNA mediated silencing of PERK and IRE1a had a modest effect on AAV2 and AAV6 mediated gene expression (,1.5-2 fold) in vitro.\n",
      "\n",
      "Found the answer in 12.19 seconds\n",
      "--------------------------------------------------------------------------------------------------------------------------------------------------------------------------------------------------------\n",
      "\n",
      "\n",
      "--------------------------------------------------------------------------------------------------------------------------------------------------------------------------------------------------------\n",
      "For Query 10: 'What is Multiple sclerosis?', the most relevant article is:\n",
      "\n",
      "ID: 86fca5af635ee9425e3375140fb48cbe6d429411,\tTitle: Deep Sequencing for the Detection of Virus-Like Sequences in the Brains of Patients with Multiple Sclerosis: Detection of GBV-C in Human Brain\n",
      "\n",
      "The Passage is:\n",
      "It's relationship with the underlying disease, primary progressive multiple sclerosis, in this single person is not clear.\n",
      "\n",
      "Found the answer in 13.49 seconds\n",
      "--------------------------------------------------------------------------------------------------------------------------------------------------------------------------------------------------------\n",
      "\n",
      "\n",
      "\n",
      "\n",
      "\n",
      "--------------------------------------------------------------------------------------------------------------------------------------------------------------------------------------------------------\n",
      "\n",
      "Average time per Query: 24.91\n",
      "\n",
      "--------------------------------------------------------------------------------------------------------------------------------------------------------------------------------------------------------\n"
     ]
    }
   ],
   "source": [
    "total_time = 0.0\n",
    "for idx, query in enumerate(queries):\n",
    "  start_time = time.time()\n",
    "  best_article_index, passage = find_best_article(articles, index_to_summary_embeddings2, index_to_article_embedding2, query, embedder2, threshold=threshold)\n",
    "  elapsed_time = time.time() - start_time\n",
    "  total_time += elapsed_time\n",
    "  best_article = articles[best_article_index]\n",
    "  \n",
    "  print('-' * 200)\n",
    "  print(\"For Query {}: '{}', the most relevant article is:\\n\".format(idx + 1, query))\n",
    "  print('ID: {},\\tTitle: {}\\n'.format(best_article.id, best_article.title))\n",
    "  print('The Passage is:')\n",
    "  print(passage)\n",
    "  print('\\nFound the answer in %.2f seconds' % elapsed_time)\n",
    "  print('-' * 200)\n",
    "  print('\\n')\n",
    "\n",
    "print('\\n\\n')\n",
    "print('-' * 200)\n",
    "print('\\nAverage time per Query: {:.2f}\\n'.format(total_time / len(queries)))\n",
    "print('-' * 200)"
   ]
  },
  {
   "cell_type": "markdown",
   "metadata": {
    "id": "pHAfq5TCAqBV"
   },
   "source": [
    "An analysis of the results can be found in the pdf report."
   ]
  },
  {
   "cell_type": "code",
   "execution_count": 29,
   "metadata": {
    "id": "8-Wg3sjJ3Qpr"
   },
   "outputs": [],
   "source": []
  }
 ],
 "metadata": {
  "accelerator": "GPU",
  "colab": {
   "collapsed_sections": [],
   "name": "AI2_HW4_PART1.ipynb",
   "provenance": [],
   "toc_visible": true
  },
  "kernelspec": {
   "display_name": "Python 3",
   "language": "python",
   "name": "python3"
  },
  "language_info": {
   "codemirror_mode": {
    "name": "ipython",
    "version": 3
   },
   "file_extension": ".py",
   "mimetype": "text/x-python",
   "name": "python",
   "nbconvert_exporter": "python",
   "pygments_lexer": "ipython3",
   "version": "3.7.3"
  }
 },
 "nbformat": 4,
 "nbformat_minor": 1
}
