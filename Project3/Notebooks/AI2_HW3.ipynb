{
  "nbformat": 4,
  "nbformat_minor": 0,
  "metadata": {
    "colab": {
      "name": "AI2_HW3.ipynb",
      "provenance": [],
      "collapsed_sections": []
    },
    "kernelspec": {
      "display_name": "Python 3",
      "name": "python3"
    },
    "accelerator": "GPU"
  },
  "cells": [
    {
      "cell_type": "markdown",
      "metadata": {
        "id": "yuagbe4H5ZpN"
      },
      "source": [
        "# Imports"
      ]
    },
    {
      "cell_type": "code",
      "metadata": {
        "colab": {
          "base_uri": "https://localhost:8080/"
        },
        "id": "GgWHnuSBRaBn",
        "outputId": "a91456d0-b047-480b-e2e4-5c7e96ab96ab"
      },
      "source": [
        "import re\n",
        "import nltk\n",
        "import os\n",
        "import logging\n",
        "import torch\n",
        "import torch.nn as nn\n",
        "import torch.nn.functional as F\n",
        "import pandas as pd\n",
        "import numpy as np\n",
        "import matplotlib.pyplot as plt\n",
        "%matplotlib inline\n",
        "from sklearn.model_selection import train_test_split\n",
        "from torchtext.data import Field, BucketIterator, TabularDataset\n",
        "from nltk.stem import PorterStemmer\n",
        "from nltk.corpus import stopwords\n",
        "nltk.download('stopwords')"
      ],
      "execution_count": 1,
      "outputs": [
        {
          "output_type": "stream",
          "text": [
            "[nltk_data] Downloading package stopwords to /root/nltk_data...\n",
            "[nltk_data]   Unzipping corpora/stopwords.zip.\n"
          ],
          "name": "stdout"
        },
        {
          "output_type": "execute_result",
          "data": {
            "text/plain": [
              "True"
            ]
          },
          "metadata": {
            "tags": []
          },
          "execution_count": 1
        }
      ]
    },
    {
      "cell_type": "code",
      "metadata": {
        "colab": {
          "base_uri": "https://localhost:8080/"
        },
        "id": "Yvk5nULm5iN5",
        "outputId": "f875a45d-9a50-4020-b4bc-1a2b00b7e4b9"
      },
      "source": [
        "from preprocessing import *\n",
        "from dataset import *\n",
        "from metrics import *\n",
        "from train import *\n",
        "from plots import *"
      ],
      "execution_count": 2,
      "outputs": [
        {
          "output_type": "stream",
          "text": [
            "[nltk_data] Downloading package stopwords to /root/nltk_data...\n",
            "[nltk_data]   Package stopwords is already up-to-date!\n"
          ],
          "name": "stdout"
        }
      ]
    },
    {
      "cell_type": "markdown",
      "metadata": {
        "id": "JN-Vmgkw7361"
      },
      "source": [
        "# Hyperparameters of the process"
      ]
    },
    {
      "cell_type": "code",
      "metadata": {
        "id": "uRneXoWq3woa"
      },
      "source": [
        "batch_size = 32\r\n",
        "max_vocab_size = 25_000\r\n",
        "epochs = 5\r\n",
        "learning_rate = 0.0075\r\n",
        "clip = 10\r\n",
        "# glove = 'glove.6B.100d'\r\n",
        "glove = 'glove.twitter.27B.100d'"
      ],
      "execution_count": 3,
      "outputs": []
    },
    {
      "cell_type": "markdown",
      "metadata": {
        "id": "DxZ1QA7f5ocf"
      },
      "source": [
        "# Preprocessing and preparing the dataset"
      ]
    },
    {
      "cell_type": "code",
      "metadata": {
        "id": "XFpIuKchRfnh"
      },
      "source": [
        "# EDIT THE PATH OF THE CSV HERE\n",
        "root_dir = os.path.join('.', 'drive', 'My Drive', 'Colab Notebooks', 'AI2',\n",
        "                        'Project1', 'dataset')\n",
        "filename = 'SentimentTweets.csv'\n",
        "split_dir_name = os.path.join(root_dir, 'split_dataset')\n",
        "\n",
        "# split the full dataset into 3 files for train-val-test, in the split_dir\n",
        "filenames = split_dataset(root_dir, filename, split_dir_name, train_size=0.90)\n",
        "# filenames = ('train_dataset.csv', 'val_dataset.csv', 'test_dataset.csv')"
      ],
      "execution_count": 4,
      "outputs": []
    },
    {
      "cell_type": "code",
      "metadata": {
        "id": "_V4jwyf1Rf6d",
        "colab": {
          "base_uri": "https://localhost:8080/"
        },
        "outputId": "4fe673e1-0169-49d3-c849-116e956c6772"
      },
      "source": [
        "# get the datasets and the Bucket Iterators\n",
        "device = torch.device('cuda' if torch.cuda.is_available() else 'cpu')\n",
        "TEXT, LABEL, datasets, iterators = parse_datasets(split_dir_name, filenames,\n",
        "                                                  device, batch_size=batch_size,\n",
        "                                                  glove=glove,\n",
        "                                                  max_vocab_size=max_vocab_size)"
      ],
      "execution_count": 5,
      "outputs": [
        {
          "output_type": "stream",
          "text": [
            ".vector_cache/glove.twitter.27B.zip: 1.52GB [11:41, 2.17MB/s]                            \n",
            "100%|█████████▉| 1192456/1193514 [00:50<00:00, 23722.05it/s]"
          ],
          "name": "stderr"
        }
      ]
    },
    {
      "cell_type": "code",
      "metadata": {
        "colab": {
          "base_uri": "https://localhost:8080/"
        },
        "id": "TlVzduXmuu3r",
        "outputId": "3adac748-1b74-435f-d91a-bb7746f1bdcc"
      },
      "source": [
        "device"
      ],
      "execution_count": 6,
      "outputs": [
        {
          "output_type": "execute_result",
          "data": {
            "text/plain": [
              "device(type='cuda')"
            ]
          },
          "metadata": {
            "tags": []
          },
          "execution_count": 6
        }
      ]
    },
    {
      "cell_type": "code",
      "metadata": {
        "id": "JIL00TZNmUIm"
      },
      "source": [
        "# unpack the datasets and the iterators\n",
        "train_dataset, val_dataset, test_dataset = datasets\n",
        "train_iterator, val_iterator, test_iterator = iterators"
      ],
      "execution_count": 7,
      "outputs": []
    },
    {
      "cell_type": "markdown",
      "metadata": {
        "id": "F74OVnNhAPkC"
      },
      "source": [
        "# Model"
      ]
    },
    {
      "cell_type": "code",
      "metadata": {
        "id": "DbQGdR02ZFVi"
      },
      "source": [
        "class RNN(nn.Module):\n",
        "  \"\"\" Recurrent Neural Network Class \"\"\"\n",
        "\n",
        "  def __init__(self, TEXT, config):\n",
        "    \"\"\"\n",
        "    :param torchtext.data.Field TEXT:  A Field object representing the text\n",
        "                                          data of the model.\n",
        "    :param dict config:                Dictionary containing key-values pairs\n",
        "                                          that define the architecture of the\n",
        "                                          model.\n",
        "    \"\"\"\n",
        "    super(RNN, self).__init__()\n",
        "\n",
        "    cells = {\n",
        "        'RNN': nn.RNN,\n",
        "        'GRU': nn.GRU,\n",
        "        'LSTM': nn.LSTM\n",
        "    }\n",
        "\n",
        "    # get the different hyperparameters\n",
        "    self.cell_type = config['cell_type']\n",
        "    self.emb_dim = config['emb_dim']\n",
        "    self.vocab_size = config['vocab_size']\n",
        "    self.hidden_dim = config['hidden_dim']\n",
        "    self.num_layers = config['num_layers']\n",
        "    self.rnn_dropout = config['rnn_dropout']\n",
        "    self.dropout_rate = config['dropout_rate']\n",
        "    self.bidirectional = config['bidirectional']\n",
        "    self.classes = config['classes']\n",
        "\n",
        "    # create the embedding layer\n",
        "    glove = TEXT.vocab.vectors\n",
        "    self.embedding = nn.Embedding(num_embeddings=self.vocab_size,\n",
        "                                  embedding_dim=self.emb_dim).from_pretrained(glove)\n",
        "\n",
        "    # make sure that the embeddings will not be updated\n",
        "    self.embedding.weight.requires_grad = False\n",
        "\n",
        "    # create a set of RNN layers\n",
        "    self.rnn = cells[self.cell_type](self.emb_dim, self.hidden_dim,\n",
        "                                     num_layers=self.num_layers,\n",
        "                                     dropout=self.rnn_dropout,\n",
        "                                     bidirectional=self.bidirectional)\n",
        "    \n",
        "    # dropout layer\n",
        "    self.dropout = nn.Dropout(self.dropout_rate)\n",
        "\n",
        "    # create the fully connected layer\n",
        "    rnn_output_dim = self.hidden_dim\n",
        "    if self.bidirectional:\n",
        "      rnn_output_dim *= 2\n",
        "\n",
        "    classes = self.classes\n",
        "    if self.classes == 2:\n",
        "      classes = 1\n",
        "\n",
        "    self.fc = nn.Linear(in_features=rnn_output_dim, out_features=classes)\n",
        "    self.sigmoid = nn.Sigmoid()\n",
        "\n",
        "  def forward(self, X, lengths):\n",
        "    \"\"\"\n",
        "    :param Tensor X:        Input to be fed to the RNN. [maxlen x batch_size]\n",
        "    :param Tensor lengths:  Actual length of each training example in the batch.\n",
        "                            [1 x batch_size]\n",
        "                            \n",
        "    :return:  The output of the model. [1 x batch_size]\n",
        "    :rtype:   Tensor\n",
        "    \"\"\"\n",
        "\n",
        "    # take the embeddings each word in the sentence\n",
        "    embedded = self.embedding(X)\n",
        "\n",
        "    # unpad the sequence, that is, remove the embeddings of the padding token\n",
        "    unpadded = nn.utils.rnn.pack_padded_sequence(embedded, lengths.to('cpu'))\n",
        "\n",
        "    # run through the RNN\n",
        "    if self.cell_type == 'LSTM':\n",
        "      rnn_outputs, (last_hidden_state, last_cell_state) = self.rnn(unpadded)\n",
        "    else:\n",
        "      rnn_outputs, last_hidden_state = self.rnn(unpadded)\n",
        "\n",
        "    # get the data of the last hidden state for each layer\n",
        "    batch_size = X.shape[1]\n",
        "    num_directions = 2 if self.bidirectional else 1\n",
        "    data = last_hidden_state.data.view(self.num_layers, num_directions,\n",
        "                                       batch_size, self.hidden_dim)\n",
        "\n",
        "    # if bidirectional\n",
        "    if self.bidirectional:\n",
        "      # concatenate the last hiddens states (-> and <-) of the topmost layer\n",
        "      hidden_states_concatenated = torch.cat((data[-1, 0, :, :], data[-1, 1, :, :]), dim=1)\n",
        "    else:\n",
        "      # else, just get the last hidden state of the topmost layer\n",
        "      hidden_states_concatenated = data[-1, 0, :, :]\n",
        "\n",
        "    # run through the fully connected layer and a sigmoid to get probabilities\n",
        "    if self.dropout_rate > 0.0:\n",
        "      hidden_states_concatenated = self.dropout(hidden_states_concatenated)\n",
        "\n",
        "    output_fc = self.fc(hidden_states_concatenated)\n",
        "    output = self.sigmoid(output_fc)\n",
        "\n",
        "    return output\n",
        "\n",
        "  def unfreeze_embedding(self):\n",
        "    \"\"\"\n",
        "    This method makes the embedding layer trainable.\n",
        "    \"\"\"\n",
        "    self.embedding.weight.requires_grad = True"
      ],
      "execution_count": 8,
      "outputs": []
    },
    {
      "cell_type": "markdown",
      "metadata": {
        "id": "zmB67_W4amNo"
      },
      "source": [
        "## Create the model"
      ]
    },
    {
      "cell_type": "code",
      "metadata": {
        "colab": {
          "base_uri": "https://localhost:8080/"
        },
        "id": "yEiNdCcOfxUN",
        "outputId": "7c583216-c6ec-47d8-a900-03915346c333"
      },
      "source": [
        " config = {\n",
        "    'cell_type': 'LSTM',\n",
        "    'emb_dim': 100,\n",
        "    'vocab_size': len(TEXT.vocab),\n",
        "    'hidden_dim': 512,\n",
        "    'num_layers': 2,\n",
        "    'rnn_dropout': 0.1,\n",
        "    'dropout_rate': 0.1,\n",
        "    'bidirectional': True,\n",
        "    'classes': 2\n",
        "}\n",
        "\n",
        "classifier = RNN(TEXT, config)\n",
        "classifier.to(device)"
      ],
      "execution_count": 9,
      "outputs": [
        {
          "output_type": "execute_result",
          "data": {
            "text/plain": [
              "RNN(\n",
              "  (embedding): Embedding(25002, 100)\n",
              "  (rnn): LSTM(100, 512, num_layers=2, dropout=0.1, bidirectional=True)\n",
              "  (dropout): Dropout(p=0.1, inplace=False)\n",
              "  (fc): Linear(in_features=1024, out_features=1, bias=True)\n",
              "  (sigmoid): Sigmoid()\n",
              ")"
            ]
          },
          "metadata": {
            "tags": []
          },
          "execution_count": 9
        }
      ]
    },
    {
      "cell_type": "markdown",
      "metadata": {
        "id": "ICb_HOTMaxTr"
      },
      "source": [
        "## Define here the loss function, the optimizer and the scheduler"
      ]
    },
    {
      "cell_type": "code",
      "metadata": {
        "id": "7RvP_Up2a08L"
      },
      "source": [
        "optimizer = torch.optim.Adam(classifier.parameters(), lr=learning_rate)\n",
        "criterion = nn.BCELoss().to(device)\n",
        "scheduler = torch.optim.lr_scheduler.ReduceLROnPlateau(optimizer, factor=0.5,\n",
        "                                                       patience=2, eps=1e-5,\n",
        "                                                       verbose=True)\n",
        "# scheduler = None"
      ],
      "execution_count": 10,
      "outputs": []
    },
    {
      "cell_type": "markdown",
      "metadata": {
        "id": "0V63PEhqbDkw"
      },
      "source": [
        "# Train!"
      ]
    },
    {
      "cell_type": "code",
      "metadata": {
        "colab": {
          "base_uri": "https://localhost:8080/"
        },
        "id": "7mEgsFieMgdt",
        "outputId": "fe4beef1-49bf-4db6-d926-5ac45a505387"
      },
      "source": [
        "# method found in train.py, should take ~3.5 minutes/epoch on GPU\n",
        "metrics = train(classifier, train_iterator, val_iterator, epochs,\n",
        "                optimizer, criterion, scheduler=scheduler, clip=clip,\n",
        "                unfreeze_on_epoch=0, verbose=True)"
      ],
      "execution_count": 11,
      "outputs": [
        {
          "output_type": "stream",
          "text": [
            "\r100%|█████████▉| 1192456/1193514 [01:10<00:00, 23722.05it/s]"
          ],
          "name": "stderr"
        },
        {
          "output_type": "stream",
          "text": [
            "Epoch: 0\n",
            "\t\tAverage Training Loss: 0.55, Average Validation Loss: 0.57\n",
            "\t\tAverage Training Accuracy: 0.72, Average Validation Accuracy: 0.70\n",
            "\t\tAverage Training F1-score: 0.71, Average Validation F1-score: 0.61\n",
            "\n",
            "Epoch: 1\n",
            "\t\tAverage Training Loss: 0.54, Average Validation Loss: 0.52\n",
            "\t\tAverage Training Accuracy: 0.72, Average Validation Accuracy: 0.74\n",
            "\t\tAverage Training F1-score: 0.71, Average Validation F1-score: 0.72\n",
            "\n",
            "Epoch: 2\n",
            "\t\tAverage Training Loss: 0.54, Average Validation Loss: 0.53\n",
            "\t\tAverage Training Accuracy: 0.72, Average Validation Accuracy: 0.74\n",
            "\t\tAverage Training F1-score: 0.71, Average Validation F1-score: 0.71\n",
            "\n",
            "Epoch: 3\n",
            "\t\tAverage Training Loss: 0.54, Average Validation Loss: 0.53\n",
            "\t\tAverage Training Accuracy: 0.72, Average Validation Accuracy: 0.74\n",
            "\t\tAverage Training F1-score: 0.71, Average Validation F1-score: 0.71\n",
            "\n",
            "Epoch: 4\n",
            "\t\tAverage Training Loss: 0.54, Average Validation Loss: 0.52\n",
            "\t\tAverage Training Accuracy: 0.72, Average Validation Accuracy: 0.74\n",
            "\t\tAverage Training F1-score: 0.71, Average Validation F1-score: 0.74\n",
            "\n"
          ],
          "name": "stdout"
        }
      ]
    },
    {
      "cell_type": "markdown",
      "metadata": {
        "id": "JlnkaW4AQXGS"
      },
      "source": [
        "## Let's plot the different metrics for the model"
      ]
    },
    {
      "cell_type": "code",
      "metadata": {
        "colab": {
          "base_uri": "https://localhost:8080/",
          "height": 815
        },
        "id": "OhLcIvLH7ZzF",
        "outputId": "91aa7b38-fb64-4d71-ab0d-8a4bf272d3b5"
      },
      "source": [
        "# plot the Training and Validation Losses\n",
        "plot_metrics(metrics['train_losses'], metrics['val_losses'], 'Train Loss',\n",
        "             'Val Loss', 'Loss\\n', '\\nLosses\\n')"
      ],
      "execution_count": 12,
      "outputs": [
        {
          "output_type": "display_data",
          "data": {
            "image/png": "[encoded data removed]",
            "text/plain": [
              "<Figure size 1800x936 with 1 Axes>"
            ]
          },
          "metadata": {
            "tags": [],
            "needs_background": "light"
          }
        }
      ]
    },
    {
      "cell_type": "code",
      "metadata": {
        "colab": {
          "base_uri": "https://localhost:8080/",
          "height": 830
        },
        "id": "G9xY9QswQzNe",
        "outputId": "664e0084-4c42-4d87-8a2e-6273925c1588"
      },
      "source": [
        "# plot the Training and Validation Accuracies\r\n",
        "plot_metrics(metrics['train_accuracies'], metrics['val_accuracies'],\r\n",
        "             'Train Accuracy', 'Val Accuracy', 'Accuracy\\n', '\\n\\nAccuracies\\n')"
      ],
      "execution_count": 13,
      "outputs": [
        {
          "output_type": "display_data",
          "data": {
            "image/png": "[encoded data removed]",
            "text/plain": [
              "<Figure size 1800x936 with 1 Axes>"
            ]
          },
          "metadata": {
            "tags": [],
            "needs_background": "light"
          }
        }
      ]
    },
    {
      "cell_type": "code",
      "metadata": {
        "colab": {
          "base_uri": "https://localhost:8080/",
          "height": 830
        },
        "id": "8imn4TmKQzFX",
        "outputId": "33a5cb3b-fa6d-4fca-a05a-e16564768aae"
      },
      "source": [
        "# plot the Training and Validation F1 scores\r\n",
        "plot_metrics(metrics['train_f1'], metrics['val_f1'], 'Train F1', 'Val F1',\r\n",
        "             'F1 Score\\n', '\\n\\nF1 scores\\n')"
      ],
      "execution_count": 14,
      "outputs": [
        {
          "output_type": "display_data",
          "data": {
            "image/png": "[encoded data removed]",
            "text/plain": [
              "<Figure size 1800x936 with 1 Axes>"
            ]
          },
          "metadata": {
            "tags": [],
            "needs_background": "light"
          }
        }
      ]
    },
    {
      "cell_type": "markdown",
      "metadata": {
        "id": "rjfZmlVUfVF6"
      },
      "source": [
        "## Get the ground truths and the predictions for the whole Test Dataset"
      ]
    },
    {
      "cell_type": "code",
      "metadata": {
        "id": "t1AWuazVfWys"
      },
      "source": [
        "# function located in dataset.py\r\n",
        "y_test, y_test_pred = get_truths_and_predictions(classifier, test_iterator)"
      ],
      "execution_count": 15,
      "outputs": []
    },
    {
      "cell_type": "code",
      "metadata": {
        "colab": {
          "base_uri": "https://localhost:8080/"
        },
        "id": "b1vNtGOVjiB6",
        "outputId": "95f86ff5-aeed-4f3e-f42b-039ed96f811b"
      },
      "source": [
        "y_test_pred"
      ],
      "execution_count": 16,
      "outputs": [
        {
          "output_type": "execute_result",
          "data": {
            "text/plain": [
              "tensor([[0.8754],\n",
              "        [0.0203],\n",
              "        [0.5544],\n",
              "        ...,\n",
              "        [0.7070],\n",
              "        [0.6944],\n",
              "        [0.5547]], device='cuda:0')"
            ]
          },
          "metadata": {
            "tags": []
          },
          "execution_count": 16
        }
      ]
    },
    {
      "cell_type": "markdown",
      "metadata": {
        "id": "vwfNbqlFX5XF"
      },
      "source": [
        "## Classification report and Confusion Matrix"
      ]
    },
    {
      "cell_type": "code",
      "metadata": {
        "colab": {
          "base_uri": "https://localhost:8080/"
        },
        "id": "y3DGJ8RvX-bI",
        "outputId": "fdc734eb-e8dd-43df-9c49-af272538f9f0"
      },
      "source": [
        "from sklearn.metrics import classification_report, confusion_matrix\n",
        "\n",
        "threshold = 0.5\n",
        "predicted_test_labels = torch.where(y_test_pred > threshold, 1, 0)\n",
        "\n",
        "print(\"Classification Report:\")\n",
        "print(f\"{classification_report(y_test.cpu(), predicted_test_labels.cpu())}\")\n",
        "print(\"\\nConfusion Matrix:\\n\")\n",
        "print(confusion_matrix(y_test.cpu(), predicted_test_labels.cpu()))"
      ],
      "execution_count": 17,
      "outputs": [
        {
          "output_type": "stream",
          "text": [
            "Classification Report:\n",
            "              precision    recall  f1-score   support\n",
            "\n",
            "         0.0       0.76      0.69      0.72     31906\n",
            "         1.0       0.72      0.78      0.75     31972\n",
            "\n",
            "    accuracy                           0.73     63878\n",
            "   macro avg       0.74      0.73      0.73     63878\n",
            "weighted avg       0.74      0.73      0.73     63878\n",
            "\n",
            "\n",
            "Confusion Matrix:\n",
            "\n",
            "[[22162  9744]\n",
            " [ 7191 24781]]\n"
          ],
          "name": "stdout"
        }
      ]
    },
    {
      "cell_type": "markdown",
      "metadata": {
        "id": "LhlJ3N-MQeIa"
      },
      "source": [
        "## Let's also plot the ROC Curve"
      ]
    },
    {
      "cell_type": "code",
      "metadata": {
        "colab": {
          "base_uri": "https://localhost:8080/",
          "height": 693
        },
        "id": "-PLaetVEOT0-",
        "outputId": "f1ad6345-c5c5-4f53-b028-2a409b09b703"
      },
      "source": [
        "plot_roc_curve(y_test, y_test_pred)"
      ],
      "execution_count": 18,
      "outputs": [
        {
          "output_type": "display_data",
          "data": {
            "image/png": "[encoded data removed]",
            "text/plain": [
              "<Figure size 1080x720 with 1 Axes>"
            ]
          },
          "metadata": {
            "tags": [],
            "needs_background": "light"
          }
        }
      ]
    },
    {
      "cell_type": "markdown",
      "metadata": {
        "id": "VjF7A2NWSlFd"
      },
      "source": [
        "# Custom Grid Search function"
      ]
    },
    {
      "cell_type": "code",
      "metadata": {
        "id": "DPvMJ-G67Zpu"
      },
      "source": [
        "def grid_search(train_iterator, val_iterator, epochs, clip, TEXT, device,\n",
        "                cell_types, hidden_dims, layers, learning_rates):\n",
        "  \"\"\" Grid search to find the best model \"\"\"\n",
        "  for cell_type in cell_types:\n",
        "    for hidden_dim in hidden_dims:\n",
        "      for num_layers in layers:\n",
        "        for lr in learning_rates:\n",
        "\n",
        "          print('=' * 100)\n",
        "          print('Config: cell type = {}, hidden_dim = {}, num_layers = {} and '\n",
        "                'lr = {}'.format(cell_type, hidden_dim, num_layers, lr))\n",
        "          print('=' * 100)\n",
        "\n",
        "          config = {\n",
        "              'cell_type': cell_type,\n",
        "              'emb_dim': 100,\n",
        "              'vocab_size': len(TEXT.vocab),\n",
        "              'hidden_dim': hidden_dim,\n",
        "              'num_layers': num_layers,\n",
        "              'rnn_dropout': 0.15,\n",
        "              'dropout_rate': 0.3,\n",
        "              'bidirectional': True,\n",
        "              'classes': 2\n",
        "          }\n",
        "\n",
        "          classifier = RNN(TEXT, config)\n",
        "          classifier.to(device)\n",
        "\n",
        "          optimizer = torch.optim.Adam(classifier.parameters(), lr=lr)\n",
        "          criterion = nn.BCELoss().to(device)\n",
        "          scheduler = torch.optim.lr_scheduler.ReduceLROnPlateau(optimizer,\n",
        "                                                                 factor=0.5,\n",
        "                                                                 patience=4,\n",
        "                                                                 eps=1e-5,\n",
        "                                                                 verbose=True)\n",
        "          \n",
        "\n",
        "          metrics = train(classifier, train_iterator, val_iterator, epochs,\n",
        "                          optimizer, criterion, scheduler=scheduler, clip=clip,\n",
        "                          unfreeze_on_epoch=0, verbose=True)\n",
        "          \n",
        "          train_loss = metrics['train_losses']\n",
        "          val_loss = metrics['val_losses']\n",
        "          plot_metrics(train_loss, val_loss, 'Train Loss',\n",
        "                       'Val Loss', 'Loss\\n', '\\nLosses with config: cell type '\n",
        "                       '= {}, hidden_dim = {}, num_layers = {} and lr = '\n",
        "                       '{}\\n'.format(cell_type, hidden_dim, num_layers, lr))\n",
        "\n",
        "          train_acc = metrics['train_accuracies']\n",
        "          val_acc = metrics['val_accuracies']\n",
        "          plot_metrics(train_acc, val_acc, 'Train Accuracy',\n",
        "                       'Val Accuracy', 'Accuracy\\n', '\\n\\nAccuracies with '\n",
        "                       'config: cell type = {}, hidden_dim = {}, num_layers = '\n",
        "                       '{} and lr = {}\\n'.format(cell_type, hidden_dim,\n",
        "                                                 num_layers, lr))\n",
        "\n",
        "          train_f1 = metrics['train_f1']\n",
        "          val_f1 = metrics['val_f1']\n",
        "          plot_metrics(train_f1, val_f1, 'Train F1', 'Val F1',\n",
        "                       'F1 Score\\n', '\\n\\nF1 scores with config: cell type = {}'\n",
        "                       ', hidden_dim = {}, num_layers = {} and lr = '\n",
        "                       '{}\\n'.format(cell_type, hidden_dim, num_layers, lr))\n",
        "          print('\\n\\n\\n\\n')"
      ],
      "execution_count": 19,
      "outputs": []
    },
    {
      "cell_type": "code",
      "metadata": {
        "colab": {
          "base_uri": "https://localhost:8080/",
          "height": 54
        },
        "id": "-9Lrb8LkyLNk",
        "outputId": "c67a54b0-a604-45aa-b3cd-93b438fa0f6b"
      },
      "source": [
        "\"\"\"\r\n",
        "cell_types = ['LSTM', 'GRU']\r\n",
        "hidden_dims = [64, 128, 256, 512]\r\n",
        "layers = [2, 3]\r\n",
        "learning_rates = [0.01, 0.001]\r\n",
        "\r\n",
        "grid_search(train_iterator, val_iterator, epochs, clip, TEXT, device,\r\n",
        "            cell_types=cell_types,\r\n",
        "            hidden_dims=hidden_dims,\r\n",
        "            layers=layers,\r\n",
        "            learning_rates=learning_rates)\r\n",
        "\"\"\""
      ],
      "execution_count": 20,
      "outputs": [
        {
          "output_type": "execute_result",
          "data": {
            "application/vnd.google.colaboratory.intrinsic+json": {
              "type": "string"
            },
            "text/plain": [
              "\"\\ncell_types = ['LSTM', 'GRU']\\nhidden_dims = [64, 128, 256, 512]\\nlayers = [2, 3]\\nlearning_rates = [0.01, 0.001]\\n\\ngrid_search(train_iterator, val_iterator, epochs, clip, TEXT, device,\\n            cell_types=cell_types,\\n            hidden_dims=hidden_dims,\\n            layers=layers,\\n            learning_rates=learning_rates)\\n\""
            ]
          },
          "metadata": {
            "tags": []
          },
          "execution_count": 20
        }
      ]
    },
    {
      "cell_type": "markdown",
      "metadata": {
        "id": "Q-adpZSrmy0a"
      },
      "source": [
        "## Predict your own sentences"
      ]
    },
    {
      "cell_type": "code",
      "metadata": {
        "id": "3g1YYeQpsM1g"
      },
      "source": [
        "def predict(classifier, sentence, TEXT, device, threshold=0.5):\n",
        "  \"\"\" predict the sentiment of a given sentence \"\"\"\n",
        "\n",
        "  sentence = main_pipeline(sentence)\n",
        "  split_sentence = sentence.split()\n",
        "  words = len(split_sentence)\n",
        "  \n",
        "  tokenized_sentence = list(map(lambda word: TEXT.vocab.stoi.get(word, 0),\n",
        "                                split_sentence))\n",
        "  tokenized_sentence = torch.LongTensor(tokenized_sentence).reshape(-1, 1).to(device)\n",
        "  length = torch.LongTensor([words]).to(device)\n",
        "\n",
        "  with torch.no_grad():\n",
        "    classifier.eval()\n",
        "    value = classifier(tokenized_sentence, length)\n",
        "\n",
        "  # print(value.item())\n",
        "  if value >= threshold:\n",
        "    return 1\n",
        "  else:\n",
        "    return 0"
      ],
      "execution_count": 21,
      "outputs": []
    },
    {
      "cell_type": "code",
      "metadata": {
        "colab": {
          "base_uri": "https://localhost:8080/"
        },
        "id": "JZHQDR7qb_qA",
        "outputId": "046f8c48-947d-45ea-f6f1-0c28ccd05105"
      },
      "source": [
        "sentence = \"ALFZ FYGE\"\n",
        "sentiment = predict(classifier, sentence, TEXT, device)\n",
        "\n",
        "print(\"Sentiment predicted: \", sep='', end='')\n",
        "if sentiment == 1:\n",
        "  print(\"Positive\")\n",
        "else:\n",
        "  print(\"Negative\")"
      ],
      "execution_count": 22,
      "outputs": [
        {
          "output_type": "stream",
          "text": [
            "Sentiment predicted: Positive\n"
          ],
          "name": "stdout"
        }
      ]
    }
  ]
}