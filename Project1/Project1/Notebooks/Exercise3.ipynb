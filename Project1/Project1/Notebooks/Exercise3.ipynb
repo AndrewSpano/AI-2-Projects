{
  "nbformat": 4,
  "nbformat_minor": 0,
  "metadata": {
    "colab": {
      "name": "Exercise3.ipynb",
      "provenance": [],
      "collapsed_sections": []
    },
    "kernelspec": {
      "name": "python3",
      "display_name": "Python 3"
    }
  },
  "cells": [
    {
      "cell_type": "markdown",
      "metadata": {
        "id": "UpbFWsQBdnqi"
      },
      "source": [
        "# Notebook for Sentiment Analysis of Tweets using Logistic Regression"
      ]
    },
    {
      "cell_type": "markdown",
      "metadata": {
        "id": "Jp5bT6-dfBDY"
      },
      "source": [
        "## Useful Imports"
      ]
    },
    {
      "cell_type": "code",
      "metadata": {
        "id": "g6FUpVbIdVgK"
      },
      "source": [
        "import os\n",
        "import re\n",
        "import pandas as pd\n",
        "import numpy as np\n",
        "import matplotlib.pyplot as plt\n",
        "\n",
        "%matplotlib inline"
      ],
      "execution_count": 1,
      "outputs": []
    },
    {
      "cell_type": "markdown",
      "metadata": {
        "id": "e959m6d_fEyA"
      },
      "source": [
        "## Load the dataset"
      ]
    },
    {
      "cell_type": "code",
      "metadata": {
        "id": "S7wGNUN8fDR7"
      },
      "source": [
        "# EDIT THE PATH OF THE CSV HERE\n",
        "TWEETS_PATH = os.path.join(\".\", \"drive\", \"My Drive\", \"Colab Notebooks\", \"AI2\",\n",
        "                           \"Project1\", \"dataset\", \"SentimentTweets.csv\")\n",
        "\n",
        "def load_twitter_data(tweets_path=TWEETS_PATH):\n",
        "  return pd.read_csv(tweets_path)\n",
        "\n",
        "df = load_twitter_data(tweets_path=TWEETS_PATH)"
      ],
      "execution_count": 2,
      "outputs": []
    },
    {
      "cell_type": "markdown",
      "metadata": {
        "id": "A_879gekgByP"
      },
      "source": [
        "## Take a look at the Dataset"
      ]
    },
    {
      "cell_type": "code",
      "metadata": {
        "id": "OGnYA5DIfYLf",
        "outputId": "71064c78-f242-44fd-fec4-50c1917c1bf7",
        "colab": {
          "base_uri": "https://localhost:8080/",
          "height": 206
        }
      },
      "source": [
        "df.head()"
      ],
      "execution_count": 3,
      "outputs": [
        {
          "output_type": "execute_result",
          "data": {
            "text/html": [
              "<div>\n",
              "<style scoped>\n",
              "    .dataframe tbody tr th:only-of-type {\n",
              "        vertical-align: middle;\n",
              "    }\n",
              "\n",
              "    .dataframe tbody tr th {\n",
              "        vertical-align: top;\n",
              "    }\n",
              "\n",
              "    .dataframe thead th {\n",
              "        text-align: right;\n",
              "    }\n",
              "</style>\n",
              "<table border=\"1\" class=\"dataframe\">\n",
              "  <thead>\n",
              "    <tr style=\"text-align: right;\">\n",
              "      <th></th>\n",
              "      <th>Unnamed: 0</th>\n",
              "      <th>target</th>\n",
              "      <th>id</th>\n",
              "      <th>date</th>\n",
              "      <th>flag</th>\n",
              "      <th>user</th>\n",
              "      <th>text</th>\n",
              "    </tr>\n",
              "  </thead>\n",
              "  <tbody>\n",
              "    <tr>\n",
              "      <th>0</th>\n",
              "      <td>680949</td>\n",
              "      <td>0</td>\n",
              "      <td>2249621587</td>\n",
              "      <td>Fri Jun 19 22:41:08 PDT 2009</td>\n",
              "      <td>NO_QUERY</td>\n",
              "      <td>sukumarpant</td>\n",
              "      <td>#brokenpromises...</td>\n",
              "    </tr>\n",
              "    <tr>\n",
              "      <th>1</th>\n",
              "      <td>406741</td>\n",
              "      <td>0</td>\n",
              "      <td>2059003515</td>\n",
              "      <td>Sat Jun 06 16:03:21 PDT 2009</td>\n",
              "      <td>NO_QUERY</td>\n",
              "      <td>MTMSparrow</td>\n",
              "      <td>David Carradine  so sad. Thai's law not sure i...</td>\n",
              "    </tr>\n",
              "    <tr>\n",
              "      <th>2</th>\n",
              "      <td>1337108</td>\n",
              "      <td>4</td>\n",
              "      <td>2017466467</td>\n",
              "      <td>Wed Jun 03 08:26:14 PDT 2009</td>\n",
              "      <td>NO_QUERY</td>\n",
              "      <td>itsmemcee</td>\n",
              "      <td>A @ 415 B @ 425. Tell your bro i say congrats!</td>\n",
              "    </tr>\n",
              "    <tr>\n",
              "      <th>3</th>\n",
              "      <td>1560887</td>\n",
              "      <td>4</td>\n",
              "      <td>2186457254</td>\n",
              "      <td>Mon Jun 15 18:52:04 PDT 2009</td>\n",
              "      <td>NO_QUERY</td>\n",
              "      <td>jdfreivald</td>\n",
              "      <td>@littlefluffycat  Indeed.</td>\n",
              "    </tr>\n",
              "    <tr>\n",
              "      <th>4</th>\n",
              "      <td>1466295</td>\n",
              "      <td>4</td>\n",
              "      <td>2064458395</td>\n",
              "      <td>Sun Jun 07 06:19:20 PDT 2009</td>\n",
              "      <td>NO_QUERY</td>\n",
              "      <td>CrazyHan</td>\n",
              "      <td>Completed Race 4 Life in 58mins with girlies f...</td>\n",
              "    </tr>\n",
              "  </tbody>\n",
              "</table>\n",
              "</div>"
            ],
            "text/plain": [
              "   Unnamed: 0  ...                                               text\n",
              "0      680949  ...                                #brokenpromises... \n",
              "1      406741  ...  David Carradine  so sad. Thai's law not sure i...\n",
              "2     1337108  ...    A @ 415 B @ 425. Tell your bro i say congrats! \n",
              "3     1560887  ...                          @littlefluffycat  Indeed.\n",
              "4     1466295  ...  Completed Race 4 Life in 58mins with girlies f...\n",
              "\n",
              "[5 rows x 7 columns]"
            ]
          },
          "metadata": {
            "tags": []
          },
          "execution_count": 3
        }
      ]
    },
    {
      "cell_type": "code",
      "metadata": {
        "id": "B7Fd2qnQgQjF",
        "outputId": "8a500361-8e3a-4511-a890-135d586989bb",
        "colab": {
          "base_uri": "https://localhost:8080/",
          "height": 206
        }
      },
      "source": [
        "# get rid of useless (for the task) columns\n",
        "df.drop([\"Unnamed: 0\", \"id\", \"date\", \"flag\", \"user\"], axis=1, inplace=True)\n",
        "df.head()"
      ],
      "execution_count": 4,
      "outputs": [
        {
          "output_type": "execute_result",
          "data": {
            "text/html": [
              "<div>\n",
              "<style scoped>\n",
              "    .dataframe tbody tr th:only-of-type {\n",
              "        vertical-align: middle;\n",
              "    }\n",
              "\n",
              "    .dataframe tbody tr th {\n",
              "        vertical-align: top;\n",
              "    }\n",
              "\n",
              "    .dataframe thead th {\n",
              "        text-align: right;\n",
              "    }\n",
              "</style>\n",
              "<table border=\"1\" class=\"dataframe\">\n",
              "  <thead>\n",
              "    <tr style=\"text-align: right;\">\n",
              "      <th></th>\n",
              "      <th>target</th>\n",
              "      <th>text</th>\n",
              "    </tr>\n",
              "  </thead>\n",
              "  <tbody>\n",
              "    <tr>\n",
              "      <th>0</th>\n",
              "      <td>0</td>\n",
              "      <td>#brokenpromises...</td>\n",
              "    </tr>\n",
              "    <tr>\n",
              "      <th>1</th>\n",
              "      <td>0</td>\n",
              "      <td>David Carradine  so sad. Thai's law not sure i...</td>\n",
              "    </tr>\n",
              "    <tr>\n",
              "      <th>2</th>\n",
              "      <td>4</td>\n",
              "      <td>A @ 415 B @ 425. Tell your bro i say congrats!</td>\n",
              "    </tr>\n",
              "    <tr>\n",
              "      <th>3</th>\n",
              "      <td>4</td>\n",
              "      <td>@littlefluffycat  Indeed.</td>\n",
              "    </tr>\n",
              "    <tr>\n",
              "      <th>4</th>\n",
              "      <td>4</td>\n",
              "      <td>Completed Race 4 Life in 58mins with girlies f...</td>\n",
              "    </tr>\n",
              "  </tbody>\n",
              "</table>\n",
              "</div>"
            ],
            "text/plain": [
              "   target                                               text\n",
              "0       0                                #brokenpromises... \n",
              "1       0  David Carradine  so sad. Thai's law not sure i...\n",
              "2       4    A @ 415 B @ 425. Tell your bro i say congrats! \n",
              "3       4                          @littlefluffycat  Indeed.\n",
              "4       4  Completed Race 4 Life in 58mins with girlies f..."
            ]
          },
          "metadata": {
            "tags": []
          },
          "execution_count": 4
        }
      ]
    },
    {
      "cell_type": "code",
      "metadata": {
        "id": "qbN-QB2zgVy6",
        "outputId": "b4c784ae-a665-4efd-f21f-0dd9a7ef2851",
        "colab": {
          "base_uri": "https://localhost:8080/",
          "height": 424
        }
      },
      "source": [
        "# reindex so that the labels are in the end (for aesthetic reasons)\n",
        "df = df.reindex(columns=[\"text\", \"target\"])\n",
        "df"
      ],
      "execution_count": 5,
      "outputs": [
        {
          "output_type": "execute_result",
          "data": {
            "text/html": [
              "<div>\n",
              "<style scoped>\n",
              "    .dataframe tbody tr th:only-of-type {\n",
              "        vertical-align: middle;\n",
              "    }\n",
              "\n",
              "    .dataframe tbody tr th {\n",
              "        vertical-align: top;\n",
              "    }\n",
              "\n",
              "    .dataframe thead th {\n",
              "        text-align: right;\n",
              "    }\n",
              "</style>\n",
              "<table border=\"1\" class=\"dataframe\">\n",
              "  <thead>\n",
              "    <tr style=\"text-align: right;\">\n",
              "      <th></th>\n",
              "      <th>text</th>\n",
              "      <th>target</th>\n",
              "    </tr>\n",
              "  </thead>\n",
              "  <tbody>\n",
              "    <tr>\n",
              "      <th>0</th>\n",
              "      <td>#brokenpromises...</td>\n",
              "      <td>0</td>\n",
              "    </tr>\n",
              "    <tr>\n",
              "      <th>1</th>\n",
              "      <td>David Carradine  so sad. Thai's law not sure i...</td>\n",
              "      <td>0</td>\n",
              "    </tr>\n",
              "    <tr>\n",
              "      <th>2</th>\n",
              "      <td>A @ 415 B @ 425. Tell your bro i say congrats!</td>\n",
              "      <td>4</td>\n",
              "    </tr>\n",
              "    <tr>\n",
              "      <th>3</th>\n",
              "      <td>@littlefluffycat  Indeed.</td>\n",
              "      <td>4</td>\n",
              "    </tr>\n",
              "    <tr>\n",
              "      <th>4</th>\n",
              "      <td>Completed Race 4 Life in 58mins with girlies f...</td>\n",
              "      <td>4</td>\n",
              "    </tr>\n",
              "    <tr>\n",
              "      <th>...</th>\n",
              "      <td>...</td>\n",
              "      <td>...</td>\n",
              "    </tr>\n",
              "    <tr>\n",
              "      <th>1279995</th>\n",
              "      <td>@zawhtutwin watching cartoon and cry? oh i do ...</td>\n",
              "      <td>4</td>\n",
              "    </tr>\n",
              "    <tr>\n",
              "      <th>1279996</th>\n",
              "      <td>is eating mcdonalds</td>\n",
              "      <td>4</td>\n",
              "    </tr>\n",
              "    <tr>\n",
              "      <th>1279997</th>\n",
              "      <td>@BestSoyLatte So sorry to hear about your car....</td>\n",
              "      <td>0</td>\n",
              "    </tr>\n",
              "    <tr>\n",
              "      <th>1279998</th>\n",
              "      <td>@leesherry you have done what you could. Forgi...</td>\n",
              "      <td>4</td>\n",
              "    </tr>\n",
              "    <tr>\n",
              "      <th>1279999</th>\n",
              "      <td>i should b sleepin  i hate 8am's!!!!!!!</td>\n",
              "      <td>0</td>\n",
              "    </tr>\n",
              "  </tbody>\n",
              "</table>\n",
              "<p>1280000 rows × 2 columns</p>\n",
              "</div>"
            ],
            "text/plain": [
              "                                                      text  target\n",
              "0                                      #brokenpromises...        0\n",
              "1        David Carradine  so sad. Thai's law not sure i...       0\n",
              "2          A @ 415 B @ 425. Tell your bro i say congrats!        4\n",
              "3                                @littlefluffycat  Indeed.       4\n",
              "4        Completed Race 4 Life in 58mins with girlies f...       4\n",
              "...                                                    ...     ...\n",
              "1279995  @zawhtutwin watching cartoon and cry? oh i do ...       4\n",
              "1279996                               is eating mcdonalds        4\n",
              "1279997  @BestSoyLatte So sorry to hear about your car....       0\n",
              "1279998  @leesherry you have done what you could. Forgi...       4\n",
              "1279999            i should b sleepin  i hate 8am's!!!!!!!       0\n",
              "\n",
              "[1280000 rows x 2 columns]"
            ]
          },
          "metadata": {
            "tags": []
          },
          "execution_count": 5
        }
      ]
    },
    {
      "cell_type": "code",
      "metadata": {
        "id": "T3cKkdJtgX1q",
        "outputId": "400a4705-16ed-4855-b5e6-90266a3e3850",
        "colab": {
          "base_uri": "https://localhost:8080/",
          "height": 34
        }
      },
      "source": [
        "# check which are the unique values for the target column (labels)\n",
        "df.target.unique()"
      ],
      "execution_count": 6,
      "outputs": [
        {
          "output_type": "execute_result",
          "data": {
            "text/plain": [
              "array([0, 4])"
            ]
          },
          "metadata": {
            "tags": []
          },
          "execution_count": 6
        }
      ]
    },
    {
      "cell_type": "code",
      "metadata": {
        "id": "VDAtE3X5gZ71",
        "outputId": "7b24e21a-4029-450a-e2f0-2bb1241a2ff9",
        "colab": {
          "base_uri": "https://localhost:8080/",
          "height": 34
        }
      },
      "source": [
        "# convert the values to 0 (negative) and 1 (positive), again for aesthetic reasons\n",
        "df[\"target\"] = df[\"target\"].apply(lambda x: int(x != 0))\n",
        "df.target.unique()"
      ],
      "execution_count": 7,
      "outputs": [
        {
          "output_type": "execute_result",
          "data": {
            "text/plain": [
              "array([0, 1])"
            ]
          },
          "metadata": {
            "tags": []
          },
          "execution_count": 7
        }
      ]
    },
    {
      "cell_type": "code",
      "metadata": {
        "id": "EtbQdPkggb2A",
        "outputId": "8e0a1b27-c313-420f-c693-9c4f7f504ca0",
        "colab": {
          "base_uri": "https://localhost:8080/",
          "height": 173
        }
      },
      "source": [
        "df.info()"
      ],
      "execution_count": 8,
      "outputs": [
        {
          "output_type": "stream",
          "text": [
            "<class 'pandas.core.frame.DataFrame'>\n",
            "RangeIndex: 1280000 entries, 0 to 1279999\n",
            "Data columns (total 2 columns):\n",
            " #   Column  Non-Null Count    Dtype \n",
            "---  ------  --------------    ----- \n",
            " 0   text    1280000 non-null  object\n",
            " 1   target  1280000 non-null  int64 \n",
            "dtypes: int64(1), object(1)\n",
            "memory usage: 19.5+ MB\n"
          ],
          "name": "stdout"
        }
      ]
    },
    {
      "cell_type": "markdown",
      "metadata": {
        "id": "QA1g2cFdh-WW"
      },
      "source": [
        "### Now get a list with all the sentences"
      ]
    },
    {
      "cell_type": "code",
      "metadata": {
        "id": "S3-R8nHvgeh5"
      },
      "source": [
        "sentences = df[\"text\"].tolist()\n",
        "labels = df[\"target\"].tolist()"
      ],
      "execution_count": 9,
      "outputs": []
    },
    {
      "cell_type": "markdown",
      "metadata": {
        "id": "jXWy12CYiEPS"
      },
      "source": [
        "## Create some function to remove useless features (words) from the dataset using regexes"
      ]
    },
    {
      "cell_type": "code",
      "metadata": {
        "id": "gNnb3ZmjiA9l"
      },
      "source": [
        "def remove_urls(sentence):\n",
        "  # remove urls that start with http, https\n",
        "  no_https = re.sub(r\"https?:?[\\/]?[\\/]?[\\S]*\", '', sentence, flags=re.MULTILINE)\n",
        "  # remove urls that have extensions, e.g. myspace.com\n",
        "  no_extensions = re.sub(r\"[\\S]*\\.(com|org|net)[\\S]*\", '', no_https, flags=re.MULTILINE)\n",
        "  # remove urls that are in the form \"www.somepath\"\n",
        "  no_wwws = re.sub(r\"www\\.[\\S]+\", '', no_extensions, flags=re.MULTILINE)\n",
        "\n",
        "  # return the result\n",
        "  result = no_wwws\n",
        "  return result"
      ],
      "execution_count": 10,
      "outputs": []
    },
    {
      "cell_type": "code",
      "metadata": {
        "id": "PBVlCj5RiN_1"
      },
      "source": [
        "def remove_twitter_tags(sentence):\n",
        "  # remove tags of the form: @jason @ maria, etc\n",
        "  result = re.sub(r\"@[\\s]*[\\S]*\", '', sentence, flags=re.MULTILINE)\n",
        "  return result"
      ],
      "execution_count": 11,
      "outputs": []
    },
    {
      "cell_type": "code",
      "metadata": {
        "id": "FWJ5_2gJiQDK"
      },
      "source": [
        "def remove_retweet_token(sentence):\n",
        "  # remove retweet text \"RT\"\n",
        "  result = re.sub(r\"(rt|RT)[\\s]+\", '', sentence, flags=re.MULTILINE)\n",
        "  return result"
      ],
      "execution_count": 12,
      "outputs": []
    },
    {
      "cell_type": "code",
      "metadata": {
        "id": "BjydmodUiWum"
      },
      "source": [
        "def remove_tickers(sentence):\n",
        "  # remove tickers like $GE\n",
        "  result = re.sub(r\"\\$\\w*\", '', sentence, flags=re.MULTILINE)\n",
        "  return result"
      ],
      "execution_count": 13,
      "outputs": []
    },
    {
      "cell_type": "code",
      "metadata": {
        "id": "64vAw8vck_Jl"
      },
      "source": [
        "def remove_most_punctuation(sentence):\n",
        "  # substitue most punctuation characters with a space, except for some that either are emojis or help understand the sentiment (e.g. !, ?)\n",
        "  result = re.sub(r\"(#|\\$|%|\\^|&|\\*|-|_|\\+|=|,|\\.|<|>|\\/|;|\\\"|`|~|\\[|\\]|{|})+\", ' ', sentence, flags=re.MULTILINE)\n",
        "  # separate \":@\" from text\n",
        "  result = re.sub(r\":[\\s]*@+\", \" :@ \", result, flags=re.MULTILINE)\n",
        "  # separate \":)\" from text\n",
        "  result = re.sub(r\":[\\s]*\\)+\", \" :) \", result, flags=re.MULTILINE)\n",
        "  # separate \":(\" from text\n",
        "  result = re.sub(r\":[\\s]*\\(+\", \" :( \", result, flags=re.MULTILINE)\n",
        "  # separate \":D\" from text\n",
        "  result = re.sub(r\":[\\s]*D+\", \" :D \", result, flags=re.MULTILINE)\n",
        "  # substitute apostrophes (') with empty string (e.g.: don't -> dont)\n",
        "  result = re.sub(r\"'+\", '', result, flags=re.MULTILINE)\n",
        "  # now substitute groups of exclamation marks (!) with one exclamation mark ( ! ) separated by spaces\n",
        "  result = re.sub(r\"!+\", \" ! \", result, flags=re.MULTILINE)\n",
        "  # now substitute groups  question marks (?)  with one question mark (?) separated by spaces\n",
        "  result = re.sub(r\"\\?+\", \" ? \", result, flags=re.MULTILINE)\n",
        "  return result"
      ],
      "execution_count": 14,
      "outputs": []
    },
    {
      "cell_type": "code",
      "metadata": {
        "id": "Yw7JsdIRq3XP"
      },
      "source": [
        "def remove_numbers(sentence):\n",
        "  # substitute all numbers with a space\n",
        "  result = re.sub(r\"[0-9]+\", ' ', sentence, flags=re.MULTILINE)\n",
        "  return result"
      ],
      "execution_count": 15,
      "outputs": []
    },
    {
      "cell_type": "code",
      "metadata": {
        "id": "UeLGtXjxjRfT"
      },
      "source": [
        "def remove_multiple_whitespace(sentence):\n",
        "  # substitutes groups of whitespaces with just a space\n",
        "  result = re.sub(r\"[\\s]+\", ' ', sentence, flags=re.MULTILINE)\n",
        "  return result"
      ],
      "execution_count": 16,
      "outputs": []
    },
    {
      "cell_type": "code",
      "metadata": {
        "id": "lQExfN6PjOIT"
      },
      "source": [
        "def strip_whitespaces(sentence):\n",
        "  # removes leading and trailing whitespace\n",
        "  result = sentence.strip()\n",
        "  return result"
      ],
      "execution_count": 17,
      "outputs": []
    },
    {
      "cell_type": "code",
      "metadata": {
        "id": "-kdP-Cjxk7DT"
      },
      "source": [
        "def convert_to_lowercase(sentence):\n",
        "  # convert every sentence to lowercase\n",
        "  result = sentence.lower()\n",
        "  return result"
      ],
      "execution_count": 18,
      "outputs": []
    },
    {
      "cell_type": "code",
      "metadata": {
        "id": "b0KQDT7m4rwM",
        "outputId": "c8ccb695-aba5-4402-cc67-9db3e68c694d",
        "colab": {
          "base_uri": "https://localhost:8080/",
          "height": 52
        }
      },
      "source": [
        "import nltk\n",
        "from nltk.corpus import stopwords\n",
        "nltk.download('stopwords')\n",
        "\n",
        "def remove_stopwords(sentence, language=\"english\"):\n",
        "  stop_words = stopwords.words(language)\n",
        "  result = ' '.join(list(filter(lambda word: word not in stop_words, sentence.split())))\n",
        "  return result"
      ],
      "execution_count": 19,
      "outputs": [
        {
          "output_type": "stream",
          "text": [
            "[nltk_data] Downloading package stopwords to /root/nltk_data...\n",
            "[nltk_data]   Package stopwords is already up-to-date!\n"
          ],
          "name": "stdout"
        }
      ]
    },
    {
      "cell_type": "code",
      "metadata": {
        "id": "ScYTkFn_FsKZ"
      },
      "source": [
        "from nltk.stem import PorterStemmer\n",
        "\n",
        "def stem_words(sentence):\n",
        "  stemmer = PorterStemmer()\n",
        "  result = ' '.join(list(map(lambda word: stemmer.stem(word), sentence.split())))\n",
        "  return result"
      ],
      "execution_count": 20,
      "outputs": []
    },
    {
      "cell_type": "markdown",
      "metadata": {
        "id": "H-ANP02Oit-l"
      },
      "source": [
        "## Now create a pipeline that all tweets should follow"
      ]
    },
    {
      "cell_type": "code",
      "metadata": {
        "id": "PxGj7va8iZAj"
      },
      "source": [
        "def main_pipeline(sentences):\n",
        "  processed_sentences = []\n",
        "\n",
        "  cnt = 0\n",
        "  for sentence in sentences:\n",
        "    result = remove_urls(sentence)\n",
        "    result = remove_twitter_tags(result)\n",
        "    result = remove_retweet_token(result)\n",
        "    result = remove_tickers(result)\n",
        "    result = remove_most_punctuation(result)\n",
        "    result = remove_numbers(result)\n",
        "    result = remove_multiple_whitespace(result)\n",
        "    result = strip_whitespaces(result)\n",
        "    result = convert_to_lowercase(result)\n",
        "    result = remove_stopwords(result)\n",
        "    result = stem_words(result)\n",
        "\n",
        "    processed_sentences.append(result)\n",
        "\n",
        "  return processed_sentences"
      ],
      "execution_count": 21,
      "outputs": []
    },
    {
      "cell_type": "code",
      "metadata": {
        "id": "N2BkHEzHi4D8"
      },
      "source": [
        "# should take about ~ 10 mins to run\n",
        "preprocessed_sentences = main_pipeline(sentences)"
      ],
      "execution_count": 22,
      "outputs": []
    },
    {
      "cell_type": "markdown",
      "metadata": {
        "id": "rIlEtJvjjA2M"
      },
      "source": [
        "## Let's compare the sentences to see the changes made"
      ]
    },
    {
      "cell_type": "code",
      "metadata": {
        "id": "_EtJT9wci6m1",
        "outputId": "0e578b51-f3ae-4188-89f3-57a5439ad1e1",
        "colab": {
          "base_uri": "https://localhost:8080/",
          "height": 278
        }
      },
      "source": [
        "sentences[:15]"
      ],
      "execution_count": 23,
      "outputs": [
        {
          "output_type": "execute_result",
          "data": {
            "text/plain": [
              "['#brokenpromises... ',\n",
              " \"David Carradine  so sad. Thai's law not sure if it's fowl play? How many people hang themselves and tie their testicles?\",\n",
              " 'A @ 415 B @ 425. Tell your bro i say congrats! ',\n",
              " '@littlefluffycat  Indeed.',\n",
              " 'Completed Race 4 Life in 58mins with girlies from work... was fun but bloody hot!! Also bumped into some familiar faces  -well done guys!!',\n",
              " 'Woot truck fixed!!! Now workin  http://myloc.me/4NiF',\n",
              " '@BLAQSHEEPCEO   yea I melt at that lol ',\n",
              " 'wants to do something radical...but not sure what that something is. ',\n",
              " '@brlamb scratch that, @bgilgoff tweeted it. Channel is full!  #celc2009',\n",
              " \"I am sore everywhere. Also found out an assessment i had today i actually should've had last week. That teacher hates me too \",\n",
              " \"Hmm... well I've now drawn him, but it doesnt look like him \",\n",
              " 'So tired ... at least I got the blog done at http://vasmusic.wordpress.com/ . . . finally could log into the blogspot but now its no use ',\n",
              " 'drumming isnt on today  that means i can play with Nicole ;)',\n",
              " \"@pitasnackk  awww. and you didn't ask him out?\",\n",
              " 'Just drove by fisher and I feel so sad ']"
            ]
          },
          "metadata": {
            "tags": []
          },
          "execution_count": 23
        }
      ]
    },
    {
      "cell_type": "code",
      "metadata": {
        "id": "XDIonroYjDDM",
        "outputId": "12696a4c-4d5d-4e24-c7d1-8e97edafabd0",
        "colab": {
          "base_uri": "https://localhost:8080/",
          "height": 278
        }
      },
      "source": [
        "preprocessed_sentences[:15]"
      ],
      "execution_count": 24,
      "outputs": [
        {
          "output_type": "execute_result",
          "data": {
            "text/plain": [
              "['brokenpromis',\n",
              " 'david carradin sad thai law sure fowl play ? mani peopl hang tie testicl ?',\n",
              " 'b tell bro say congrat !',\n",
              " 'inde',\n",
              " 'complet race life min girli work fun bloodi hot ! also bump familiar face well done guy !',\n",
              " 'woot truck fix ! workin',\n",
              " 'yea melt lol',\n",
              " 'want someth radic sure someth',\n",
              " 'scratch tweet channel full ! celc',\n",
              " 'sore everywher also found assess today actual shouldv last week teacher hate',\n",
              " 'hmm well ive drawn doesnt look like',\n",
              " 'tire least got blog done final could log blogspot use',\n",
              " 'drum isnt today mean play nicol )',\n",
              " 'awww didnt ask ?',\n",
              " 'drove fisher feel sad']"
            ]
          },
          "metadata": {
            "tags": []
          },
          "execution_count": 24
        }
      ]
    },
    {
      "cell_type": "code",
      "metadata": {
        "id": "o_yWffmtnXYN",
        "outputId": "3a0c9930-f3b1-4c49-c3ea-3301db2d1838",
        "colab": {
          "base_uri": "https://localhost:8080/",
          "height": 34
        }
      },
      "source": [
        "labels[:15]"
      ],
      "execution_count": 25,
      "outputs": [
        {
          "output_type": "execute_result",
          "data": {
            "text/plain": [
              "[0, 0, 1, 1, 1, 0, 1, 0, 0, 0, 0, 0, 0, 1, 0]"
            ]
          },
          "metadata": {
            "tags": []
          },
          "execution_count": 25
        }
      ]
    },
    {
      "cell_type": "markdown",
      "metadata": {
        "id": "47WDZi4Xmg2m"
      },
      "source": [
        "### Make sure that the Datasets have equal lengths with each other"
      ]
    },
    {
      "cell_type": "code",
      "metadata": {
        "id": "5o8AuzudjE1O",
        "outputId": "35637d43-c4a4-4fba-aef3-24b191090340",
        "colab": {
          "base_uri": "https://localhost:8080/",
          "height": 69
        }
      },
      "source": [
        "print(len(sentences))\n",
        "print(len(preprocessed_sentences))\n",
        "print(len(labels))"
      ],
      "execution_count": 26,
      "outputs": [
        {
          "output_type": "stream",
          "text": [
            "1280000\n",
            "1280000\n",
            "1280000\n"
          ],
          "name": "stdout"
        }
      ]
    },
    {
      "cell_type": "markdown",
      "metadata": {
        "id": "VbHyNnn4mlX6"
      },
      "source": [
        "### Good, now let's check if empty sentences have been created from the pipeline, and if yes, remove those rows from the dataset."
      ]
    },
    {
      "cell_type": "code",
      "metadata": {
        "id": "jPoeza91mjZI",
        "outputId": "580ca956-e79d-474a-d6c0-a14bbe380a08",
        "colab": {
          "base_uri": "https://localhost:8080/",
          "height": 34
        }
      },
      "source": [
        "indices_of_empty_sentences = [index for index in range(len(preprocessed_sentences)) if not preprocessed_sentences[index]]\n",
        "print(len(indices_of_empty_sentences))"
      ],
      "execution_count": 27,
      "outputs": [
        {
          "output_type": "stream",
          "text": [
            "4357\n"
          ],
          "name": "stdout"
        }
      ]
    },
    {
      "cell_type": "markdown",
      "metadata": {
        "id": "Ax5DWgzAnA-l"
      },
      "source": [
        "### We have many empty sentences in our dataset, which should be removed. Let's make a function for that."
      ]
    },
    {
      "cell_type": "code",
      "metadata": {
        "id": "WQR19eJkmn2s"
      },
      "source": [
        "def remove_empty_training_examples(sentences, labels):\n",
        "  m = len(sentences)\n",
        "  filtered_sentences = []\n",
        "  filtered_labels = []\n",
        "  for index in range(m):\n",
        "    if sentences[index]:\n",
        "      filtered_sentences.append(sentences[index])\n",
        "      filtered_labels.append(labels[index])\n",
        "\n",
        "  return filtered_sentences, filtered_labels"
      ],
      "execution_count": 28,
      "outputs": []
    },
    {
      "cell_type": "code",
      "metadata": {
        "id": "y6X-WicunC8O",
        "outputId": "ea551aea-43d5-4a7c-c637-970926ebcaf8",
        "colab": {
          "base_uri": "https://localhost:8080/",
          "height": 52
        }
      },
      "source": [
        "X, Y = remove_empty_training_examples(preprocessed_sentences, labels)\n",
        "print(len(X))\n",
        "print(len(Y))"
      ],
      "execution_count": 29,
      "outputs": [
        {
          "output_type": "stream",
          "text": [
            "1275643\n",
            "1275643\n"
          ],
          "name": "stdout"
        }
      ]
    },
    {
      "cell_type": "code",
      "metadata": {
        "id": "kLjxBFDDnEyb",
        "outputId": "5d8cce1b-0ba2-46e7-a89e-ff0e3b3d280b",
        "colab": {
          "base_uri": "https://localhost:8080/",
          "height": 191
        }
      },
      "source": [
        "X[:10]"
      ],
      "execution_count": 30,
      "outputs": [
        {
          "output_type": "execute_result",
          "data": {
            "text/plain": [
              "['brokenpromis',\n",
              " 'david carradin sad thai law sure fowl play ? mani peopl hang tie testicl ?',\n",
              " 'b tell bro say congrat !',\n",
              " 'inde',\n",
              " 'complet race life min girli work fun bloodi hot ! also bump familiar face well done guy !',\n",
              " 'woot truck fix ! workin',\n",
              " 'yea melt lol',\n",
              " 'want someth radic sure someth',\n",
              " 'scratch tweet channel full ! celc',\n",
              " 'sore everywher also found assess today actual shouldv last week teacher hate']"
            ]
          },
          "metadata": {
            "tags": []
          },
          "execution_count": 30
        }
      ]
    },
    {
      "cell_type": "code",
      "metadata": {
        "id": "6ryjdGWlnKWC",
        "outputId": "f4d5afab-a67d-42c3-8e8a-4c4c75e7969b",
        "colab": {
          "base_uri": "https://localhost:8080/",
          "height": 34
        }
      },
      "source": [
        "Y[:10]"
      ],
      "execution_count": 31,
      "outputs": [
        {
          "output_type": "execute_result",
          "data": {
            "text/plain": [
              "[0, 0, 1, 1, 1, 0, 1, 0, 0, 0]"
            ]
          },
          "metadata": {
            "tags": []
          },
          "execution_count": 31
        }
      ]
    },
    {
      "cell_type": "code",
      "metadata": {
        "id": "BBgTKOETnpnN"
      },
      "source": [
        "## Now it's time to create the training-testing sets"
      ],
      "execution_count": 32,
      "outputs": []
    },
    {
      "cell_type": "code",
      "metadata": {
        "id": "59_zVS2NnMQI"
      },
      "source": [
        "from sklearn.model_selection import train_test_split\n",
        "\n",
        "# since we have 1 million instances, 2% for validation-testing is fine\n",
        "train_sentences, val_test_sentences, train_labels, val_test_labels = train_test_split(X, Y, test_size=0.02, stratify=Y, random_state=42)\n",
        "val_sentences, test_sentences, val_labels, test_labels = train_test_split(val_test_sentences, val_test_labels, test_size=0.5, stratify=val_test_labels, random_state=42)"
      ],
      "execution_count": 33,
      "outputs": []
    },
    {
      "cell_type": "code",
      "metadata": {
        "id": "9h2oBaUvntTw",
        "outputId": "03dcc610-8d89-4caf-aeed-556cb5317483",
        "colab": {
          "base_uri": "https://localhost:8080/",
          "height": 278
        }
      },
      "source": [
        "train_sentences[-15:]"
      ],
      "execution_count": 34,
      "outputs": [
        {
          "output_type": "execute_result",
          "data": {
            "text/plain": [
              "['watch love ny go grab cooki time fix nom nom nom bulk load sup',\n",
              " 'someon miss miss',\n",
              " 'thx ice type w left hand good',\n",
              " 'wait train primark mum',\n",
              " 'blade glori there noth like nun skate',\n",
              " 'glass merlot bon iver settl even perfect',\n",
              " 'headach start back head forehead oww',\n",
              " ': inde',\n",
              " 'aww hope get better ive alway found wed child program inspir heartfelt',\n",
              " 'msn may go youtub soon mayday tomorrow yay ! school',\n",
              " 'feeel bad leah hannah collin maddi cara joel aden forgot littl girl name bad parent',\n",
              " 'welcom !',\n",
              " 'get readi eu elect head poll place poll worker dont think busi day',\n",
              " 'count bless caus ive count everi lie im beyond bore',\n",
              " 'first time twitter totali love susanboyl surpris see lost mayb isnt al bad']"
            ]
          },
          "metadata": {
            "tags": []
          },
          "execution_count": 34
        }
      ]
    },
    {
      "cell_type": "code",
      "metadata": {
        "id": "kGSGKYEYnxcq",
        "outputId": "a5d8f7c2-ba39-428b-a5c8-99e35a22b966",
        "colab": {
          "base_uri": "https://localhost:8080/",
          "height": 34
        }
      },
      "source": [
        "train_labels[-15:]"
      ],
      "execution_count": 35,
      "outputs": [
        {
          "output_type": "execute_result",
          "data": {
            "text/plain": [
              "[1, 0, 0, 1, 1, 1, 0, 0, 0, 1, 0, 1, 0, 0, 1]"
            ]
          },
          "metadata": {
            "tags": []
          },
          "execution_count": 35
        }
      ]
    },
    {
      "cell_type": "markdown",
      "metadata": {
        "id": "VCkhPYNS29IA"
      },
      "source": [
        "## Finalize the sets and scale them"
      ]
    },
    {
      "cell_type": "code",
      "metadata": {
        "id": "vp8l8VYh2ylQ"
      },
      "source": [
        "# this should take about a min to run\n",
        "from sklearn.feature_extraction.text import TfidfVectorizer\n",
        "\n",
        "tfidf = TfidfVectorizer()\n",
        "\n",
        "X_train = tfidf.fit_transform(train_sentences)\n",
        "y_train = train_labels\n",
        "\n",
        "X_val = tfidf.transform(val_sentences)\n",
        "y_val = val_labels\n",
        "\n",
        "X_test = tfidf.transform(test_sentences)\n",
        "y_test = test_labels"
      ],
      "execution_count": 36,
      "outputs": []
    },
    {
      "cell_type": "code",
      "metadata": {
        "id": "RErtPgwt6Khi",
        "outputId": "358ea628-426c-4ed0-b426-74a9a3f0f2bd",
        "colab": {
          "base_uri": "https://localhost:8080/",
          "height": 52
        }
      },
      "source": [
        "X_train[:10]"
      ],
      "execution_count": 37,
      "outputs": [
        {
          "output_type": "execute_result",
          "data": {
            "text/plain": [
              "<10x201321 sparse matrix of type '<class 'numpy.float64'>'\n",
              "\twith 94 stored elements in Compressed Sparse Row format>"
            ]
          },
          "metadata": {
            "tags": []
          },
          "execution_count": 37
        }
      ]
    },
    {
      "cell_type": "markdown",
      "metadata": {
        "id": "gfmsZBkW3nJP"
      },
      "source": [
        "## Define a custom Grid Search function (GridSearchCV() is having trouble working)"
      ]
    },
    {
      "cell_type": "code",
      "metadata": {
        "id": "NSPt2fiqlmbq"
      },
      "source": [
        "from sklearn.linear_model import LogisticRegression\n",
        "from sklearn.metrics import f1_score\n",
        "\n",
        "def CustomGridSearch(X_train, y_train, X_val, y_val, params, verbose=0):\n",
        "  c_values = params[\"C\"]\n",
        "  penalties = params[\"penalties\"]\n",
        "  max_iterations = params[\"max_iter\"]\n",
        "\n",
        "  # use dictionaries to store information\n",
        "  models = {}\n",
        "  validation_accuracies = {}\n",
        "\n",
        "  for c in c_values:\n",
        "    for penalty in penalties:\n",
        "      if verbose:\n",
        "        print(\"Now checking model with configuration: C: {}, penalty: {}\\n\".format(c, penalty))\n",
        "\n",
        "      models[(c, penalty)] = LogisticRegression(penalty=penalty, solver=\"saga\", max_iter=max_iterations)\n",
        "      models[(c, penalty)].fit(X_train, y_train)\n",
        "\n",
        "      y_pred = models[(c, penalty)].predict(X_val)\n",
        "      validation_accuracies[(c,penalty)] = f1_score(y_val, y_pred, average='macro')\n",
        "\n",
        "  # find the best configuration of hyperparameters\n",
        "  min_loss = float('inf')\n",
        "  best_configuration = None\n",
        "\n",
        "  for configuration in validation_accuracies.keys():\n",
        "    if validation_accuracies[configuration] < min_loss:\n",
        "      min_loss = validation_accuracies[configuration]\n",
        "      best_configuration = configuration\n",
        "\n",
        "  # return the best configuration and the best model\n",
        "  return best_configuration, models[best_configuration]"
      ],
      "execution_count": 38,
      "outputs": []
    },
    {
      "cell_type": "markdown",
      "metadata": {
        "id": "kckozZuYqkAN"
      },
      "source": [
        "### Define here the Hyperprameters that we want to tune in the model"
      ]
    },
    {
      "cell_type": "code",
      "metadata": {
        "id": "r5aqWYBRqn6R"
      },
      "source": [
        "hyperparameters = {\n",
        "    \"C\": [0.01, 0.1, 1, 10],\n",
        "    \"penalties\": [\"l2\"],\n",
        "    \"max_iter\": 200\n",
        "}"
      ],
      "execution_count": 39,
      "outputs": []
    },
    {
      "cell_type": "markdown",
      "metadata": {
        "id": "UBm5Ty6IrAq6"
      },
      "source": [
        "## Time for Training!"
      ]
    },
    {
      "cell_type": "code",
      "metadata": {
        "id": "Jp-ItpYXqYJ0",
        "outputId": "aa4bcb14-74c7-4ba1-883a-29989f2b47e9",
        "colab": {
          "base_uri": "https://localhost:8080/",
          "height": 208
        }
      },
      "source": [
        "from datetime import datetime\n",
        "\n",
        "# keep track of when the training started\n",
        "start = datetime.now()\n",
        "dt_string = start.strftime(\"%d/%m/%Y %H:%M:%S\")\n",
        "print(\"start time =\", dt_string, \"\\n\")\n",
        "\n",
        "# train the models\n",
        "best_configuration, best_model = CustomGridSearch(X_train, y_train, X_val, y_val, hyperparameters, verbose=1)\n",
        "\n",
        "# see how much time it took\n",
        "end = datetime.now()\n",
        "dt_string = end.strftime(\"%d/%m/%Y %H:%M:%S\")\n",
        "print(\"end time =\", dt_string)"
      ],
      "execution_count": 40,
      "outputs": [
        {
          "output_type": "stream",
          "text": [
            "start time = 12/10/2020 22:59:55 \n",
            "\n",
            "Now checking model with configuration: C: 0.01, penalty: l2\n",
            "\n",
            "Now checking model with configuration: C: 0.1, penalty: l2\n",
            "\n",
            "Now checking model with configuration: C: 1, penalty: l2\n",
            "\n",
            "Now checking model with configuration: C: 10, penalty: l2\n",
            "\n",
            "end time = 12/10/2020 23:01:50\n"
          ],
          "name": "stdout"
        }
      ]
    },
    {
      "cell_type": "markdown",
      "metadata": {
        "id": "9g2Cy6PrrN5f"
      },
      "source": [
        "### Print some info about it and we are done!"
      ]
    },
    {
      "cell_type": "code",
      "metadata": {
        "id": "x1siEtI9rQsZ",
        "outputId": "a575f399-03a2-433b-9b8d-dbfcda5f9d57",
        "colab": {
          "base_uri": "https://localhost:8080/",
          "height": 243
        }
      },
      "source": [
        "from sklearn.metrics import classification_report\n",
        "\n",
        "# make the predictions for the Test set\n",
        "y_pred = best_model.predict(X_test)\n",
        "\n",
        "print(\"The best classifier has the hyperprameters: (lambda, penalty) = {}\".format(best_configuration))\n",
        "print(\"Its f1 score in the test set is: {}\".format(f1_score(y_test, y_pred, average='macro')))\n",
        "print(\"The classification report for the Test set can be found below:\\n\")\n",
        "print(classification_report(y_test, y_pred))"
      ],
      "execution_count": 41,
      "outputs": [
        {
          "output_type": "stream",
          "text": [
            "The best classifier has the hyperprameters: (lambda, penalty) = (0.1, 'l2')\n",
            "Its f1 score in the test set is: 0.7810269324826065\n",
            "The classification report for the Test set can be found below:\n",
            "\n",
            "              precision    recall  f1-score   support\n",
            "\n",
            "           0       0.79      0.77      0.78      6372\n",
            "           1       0.77      0.79      0.78      6385\n",
            "\n",
            "    accuracy                           0.78     12757\n",
            "   macro avg       0.78      0.78      0.78     12757\n",
            "weighted avg       0.78      0.78      0.78     12757\n",
            "\n"
          ],
          "name": "stdout"
        }
      ]
    },
    {
      "cell_type": "markdown",
      "metadata": {
        "id": "EIGdA2U7tPwS"
      },
      "source": [
        "## Make a prediction for fun"
      ]
    },
    {
      "cell_type": "code",
      "metadata": {
        "id": "G3i1Bdm1tST0",
        "outputId": "4612e939-b501-4d92-b941-821cccfe3e0e",
        "colab": {
          "base_uri": "https://localhost:8080/",
          "height": 34
        }
      },
      "source": [
        "# of course positive prediction\n",
        "best_model.predict(tfidf.transform([\"assignment has finished finalli\"]))"
      ],
      "execution_count": 42,
      "outputs": [
        {
          "output_type": "execute_result",
          "data": {
            "text/plain": [
              "array([1])"
            ]
          },
          "metadata": {
            "tags": []
          },
          "execution_count": 42
        }
      ]
    },
    {
      "cell_type": "code",
      "metadata": {
        "id": "Zde0kEZvEvJn",
        "outputId": "2f56ad58-2d25-4d84-a7a7-e4cab2af4697",
        "colab": {
          "base_uri": "https://localhost:8080/",
          "height": 34
        }
      },
      "source": [
        "# make also a negative one\n",
        "best_model.predict(tfidf.transform([\"assignment hard\"]))"
      ],
      "execution_count": 43,
      "outputs": [
        {
          "output_type": "execute_result",
          "data": {
            "text/plain": [
              "array([0])"
            ]
          },
          "metadata": {
            "tags": []
          },
          "execution_count": 43
        }
      ]
    },
    {
      "cell_type": "code",
      "metadata": {
        "id": "vD09AXcSA0Aj"
      },
      "source": [
        ""
      ],
      "execution_count": 43,
      "outputs": []
    }
  ]
}